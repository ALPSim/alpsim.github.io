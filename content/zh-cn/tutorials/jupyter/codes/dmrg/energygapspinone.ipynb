{
 "cells": [
  {
   "cell_type": "markdown",
   "id": "88cbf8c8-f43c-419a-8ad4-4175af0e25f7",
   "metadata": {},
   "source": [
    "## Energy Gap of a Spin-1 Chain"
   ]
  },
  {
   "cell_type": "markdown",
   "id": "fbda5df0-66bf-467f-a2b9-6407c47d13a8",
   "metadata": {},
   "source": [
    "In this tutorial, we will calculate the energy gap of a 64-site spin-1 chain using DMRG simulations. We will see a different gap behavior than the spin-1/2 chain. Here the energy gap for a spin-1 chain between the ground state and the first excited state is finite. We will also see that the ground state is 2-fold degenerate, therefore, requiring the calculation to keep more lowest-energy states in order to identify the energy gap correctly. \n",
    "\n",
    "Similar to the spin-1/2 case, the calculation can be carried out in two ways. The first method is through the direct calculation of 4 lowest energy states in the same DMRG run. We will see the 2-fold degeneracy of the ground state and the energy gap between the ground state and the first excited state. The second method is through the calculation of ground state energies in different total spin sectors, i.e., the total magnetization 0, 1, and 2. We will find that the ground state eneries for the magnetization 0 and 1 are identical within error bounds, and that the energy gap can be calculated by the ground state energy difference between magnetization 1 and 2 sectors. "
   ]
  },
  {
   "cell_type": "markdown",
   "id": "625c9646-7907-42c6-9071-bf609cfc33b8",
   "metadata": {},
   "source": [
    "## Method 1: Direct Calculation of 4 Lowest Energies"
   ]
  },
  {
   "cell_type": "markdown",
   "id": "d7c36b46-48fc-4b9a-96cc-90c01cad7f73",
   "metadata": {},
   "source": [
    "We first load the necessary libraries and prepare the input parameters."
   ]
  },
  {
   "cell_type": "code",
   "execution_count": null,
   "id": "9bd9906b-a2da-4d06-8a22-d4bab9bd87f1",
   "metadata": {},
   "outputs": [],
   "source": [
    "import pyalps\n",
    "import numpy as np\n",
    "\n",
    "parms = [ { \n",
    "        'LATTICE'                   : \"open chain lattice\", \n",
    "        'MODEL'                     : \"spin\",\n",
    "        'local_S'                   : '1',\n",
    "        'CONSERVED_QUANTUMNUMBERS'  : 'Sz',\n",
    "        'Sz_total'                  : 0,\n",
    "        'J'                         : 1,\n",
    "        'SWEEPS'                    : 5,\n",
    "        'L'                         : 64,\n",
    "        'MAXSTATES'                 : 300,\n",
    "        'NUMBER_EIGENVALUES'        : 4\n",
    "       } ]\n"
   ]
  },
  {
   "cell_type": "markdown",
   "id": "f7e13745-e4f5-41fc-ab23-c7b94e64bbec",
   "metadata": {},
   "source": [
    "Note that `local_S = 1`, which gives us the spin-1 system. The `NUMBER_EIGENVALUES = 4` will produce the lowest 4 energies from the DMRG simulations. To ensure enough accuracy, we have also set the number of sweeps `SWEEPS = 5` and the truncation of the number of states `NUMBER_EIGENVALUES = 300`. \n",
    "\n",
    "We then write the input file and run the simulation."
   ]
  },
  {
   "cell_type": "code",
   "execution_count": null,
   "id": "bc6880b3-fc5b-472f-8e09-b92e46a0026b",
   "metadata": {},
   "outputs": [],
   "source": [
    "input_file = pyalps.writeInputFiles('parm_spin_one_gap',parms)\n",
    "res = pyalps.runApplication('dmrg',input_file,writexml=True)"
   ]
  },
  {
   "cell_type": "markdown",
   "id": "f1bfb0e8-04ee-4e5e-8957-43b6c63c9492",
   "metadata": {},
   "source": [
    "We finally load the measurements and print the results."
   ]
  },
  {
   "cell_type": "code",
   "execution_count": null,
   "id": "824d53e3-392b-4617-a8ff-7a4f8fadd623",
   "metadata": {},
   "outputs": [],
   "source": [
    "data = pyalps.loadEigenstateMeasurements(pyalps.getResultFiles(prefix='parm_spin_one_gap'))\n",
    "\n",
    "energies = np.empty(0)\n",
    "for s in data[0]:\n",
    "    if s.props['observable'] == 'Energy':\n",
    "        energies = s.y\n",
    "    else:\n",
    "        print(s.props['observable'], ':', s.y[0])\n",
    "energies.sort()\n",
    "print('Energies:', end=' ')\n",
    "for e in energies:\n",
    "    print(e, end=' ')\n",
    "print('\\nGap:', abs(energies[1]-energies[0]), abs(energies[2]-energies[1]))"
   ]
  },
  {
   "cell_type": "markdown",
   "id": "579c9320-1d20-451d-a3fc-40d44d6cb01f",
   "metadata": {},
   "source": [
    "From the simulation, do you see the ground-state degeneracy and a finite energy gap to the first excited state?"
   ]
  },
  {
   "cell_type": "markdown",
   "id": "e5603a04-67b3-4513-bcad-c0e785902d99",
   "metadata": {},
   "source": [
    "## Method 2: Using Quantum Numbers"
   ]
  },
  {
   "cell_type": "markdown",
   "id": "5547db8f-d2ec-4845-b030-231973e16c24",
   "metadata": {},
   "source": [
    "We first restrict the simulations in the magnetization `Sz_total = 0` and `Sz_total = 1` sectors. The ground state energy difference between the two sectors is then extracted, which shows that they are degenerate. We then repeat the calculation with `Sz_total = 1` and `Sz_total = 2`. The results are used to extract the energy gap. \n",
    "\n",
    "We first load the libraries and prepare the input parameters."
   ]
  },
  {
   "cell_type": "code",
   "execution_count": null,
   "id": "24dbe213-511c-4117-abf6-cebe69cad674",
   "metadata": {},
   "outputs": [],
   "source": [
    "import pyalps\n",
    "import numpy as np\n",
    "\n",
    "#prepare the input parameters\n",
    "parms = []\n",
    "sz_tot = [0,1]\n",
    "for sz in sz_tot:\n",
    "    parms.append( {\n",
    "        'LATTICE'                   : \"open chain lattice\", \n",
    "        'MODEL'                     : \"spin\",\n",
    "        'local_S'                   : '1',\n",
    "        'CONSERVED_QUANTUMNUMBERS'  : 'N,Sz',\n",
    "        'Sz_total'                  : sz,\n",
    "        'J'                         : 1,\n",
    "        'SWEEPS'                    : 5,\n",
    "        'L'                         : 64,\n",
    "        'MAXSTATES'                 : 300,\n",
    "        'NUMBER_EIGENVALUES'        : 1\n",
    "       } )"
   ]
  },
  {
   "cell_type": "markdown",
   "id": "95caa8ca-8907-4e16-81c5-b42652f69683",
   "metadata": {},
   "source": [
    "The magnetization is drawn from the list of values in `sz_tot = [0,1]`. It is then assigned to the magnetization `Sz_total` in the input parameter list. Note that only 1 lowest energy state is calculated, i.e., `NUMBER_EIGENVALUES = 1`. \n",
    "\n",
    "The input files are written and the calculations are carried out by the following APIs."
   ]
  },
  {
   "cell_type": "code",
   "execution_count": null,
   "id": "db8dccd8-0766-40b7-8b09-36567b69237f",
   "metadata": {},
   "outputs": [],
   "source": [
    "input_file = pyalps.writeInputFiles('parm_spin_one_triplet',parms)\n",
    "res = pyalps.runApplication('dmrg',input_file,writexml=True)"
   ]
  },
  {
   "cell_type": "markdown",
   "id": "b8cc6761-79df-450e-b028-fa6184d8b287",
   "metadata": {},
   "source": [
    "We then load the measurements and print the results."
   ]
  },
  {
   "cell_type": "code",
   "execution_count": null,
   "id": "2332533c-c1e7-41d7-9439-3ec7218ab379",
   "metadata": {},
   "outputs": [],
   "source": [
    "data = pyalps.loadEigenstateMeasurements(pyalps.getResultFiles(prefix='parm_spin_one_triplet'))\n",
    "\n",
    "energies = {}\n",
    "for run in data:\n",
    "    print('S_z =', run[0].props['Sz_total'])\n",
    "    for s in run:\n",
    "        print('\\t', s.props['observable'], ':', s.y[0])\n",
    "        if s.props['observable'] == 'Energy':\n",
    "            sz = s.props['Sz_total']\n",
    "            energies[sz] = s.y[0]\n",
    "\n",
    "print('Gap:', energies[sz_tot[1]]-energies[sz_tot[0]])"
   ]
  },
  {
   "cell_type": "markdown",
   "id": "6c7b4947-75bf-4cf2-8c9c-2c8575dbb3b1",
   "metadata": {},
   "source": [
    "Do you see the degenerate ground states from the two magnetization sectors?\n",
    "\n",
    "Next, we change the list of magnetizations to `sz_tot = [1,2]` and repeat the simulation. For convenience, we copy the above codes in the following. The only change is the magnetization list. "
   ]
  },
  {
   "cell_type": "code",
   "execution_count": null,
   "id": "5ededaa3-7b89-4141-9d97-ff5d5fb95a8c",
   "metadata": {},
   "outputs": [],
   "source": [
    "import pyalps\n",
    "import numpy as np\n",
    "\n",
    "parms = []\n",
    "sz_tot = [1,2]\n",
    "for sz in sz_tot:\n",
    "    parms.append( {\n",
    "        'LATTICE'                   : \"open chain lattice\", \n",
    "        'MODEL'                     : \"spin\",\n",
    "        'local_S'                   : '1',\n",
    "        'CONSERVED_QUANTUMNUMBERS'  : 'N,Sz',\n",
    "        'Sz_total'                  : sz,\n",
    "        'J'                         : 1,\n",
    "        'SWEEPS'                    : 5,\n",
    "        'L'                         : 64,\n",
    "        'MAXSTATES'                 : 300,\n",
    "        'NUMBER_EIGENVALUES'        : 1\n",
    "       } )\n",
    "\n",
    "\n",
    "input_file = pyalps.writeInputFiles('parm_spin_one_triplet',parms)\n",
    "res = pyalps.runApplication('dmrg',input_file,writexml=True)\n",
    "\n",
    "data = pyalps.loadEigenstateMeasurements(pyalps.getResultFiles(prefix='parm_spin_one_triplet'))\n",
    "\n",
    "energies = {}\n",
    "for run in data:\n",
    "    print('S_z =', run[0].props['Sz_total'])\n",
    "    for s in run:\n",
    "        print('\\t', s.props['observable'], ':', s.y[0])\n",
    "        if s.props['observable'] == 'Energy':\n",
    "            sz = s.props['Sz_total']\n",
    "            energies[sz] = s.y[0]\n",
    "\n",
    "print('Gap:', energies[sz_tot[1]]-energies[sz_tot[0]])"
   ]
  },
  {
   "cell_type": "markdown",
   "id": "afeceb47-1dc8-405d-ac3e-bb01be821edf",
   "metadata": {},
   "source": [
    "Can you now correctly extract the energy gap for a 64-site spin-1 chain? Do you see agreement with the result from Method 1?"
   ]
  },
  {
   "cell_type": "code",
   "execution_count": null,
   "id": "4e1ac21d-962a-47ed-ae5d-9f9eba4d5381",
   "metadata": {},
   "outputs": [],
   "source": []
  }
 ],
 "metadata": {
  "kernelspec": {
   "display_name": "Python 3 (ipykernel)",
   "language": "python",
   "name": "python3"
  },
  "language_info": {
   "codemirror_mode": {
    "name": "ipython",
    "version": 3
   },
   "file_extension": ".py",
   "mimetype": "text/x-python",
   "name": "python",
   "nbconvert_exporter": "python",
   "pygments_lexer": "ipython3",
   "version": "3.12.7"
  }
 },
 "nbformat": 4,
 "nbformat_minor": 5
}
