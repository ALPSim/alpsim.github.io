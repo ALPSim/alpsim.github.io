{
 "cells": [
  {
   "cell_type": "markdown",
   "id": "5edbc191-1c3a-4d38-87f6-1c1200921607",
   "metadata": {},
   "source": [
    "## Extrapolation of Energy Gap for a Spin-1/2 Chain"
   ]
  },
  {
   "cell_type": "markdown",
   "id": "f7989380-c578-4c8e-a810-14a321dde037",
   "metadata": {},
   "source": [
    "In this tutorial, we will calculate energy gap for a spin-1/2 chain with various lattice sizes: 32, 64, 96, and 128. We will fix the number of states in the DMRG simulation to $D=100$, which produces results with enough accuracy. The energy gaps vs lattice sizes will be plotted and extrapolated to the thermodynamic limit. "
   ]
  },
  {
   "cell_type": "markdown",
   "id": "b7565126-abcd-4fa5-972a-4f4e066f7040",
   "metadata": {},
   "source": [
    "We first import the necessary libraries."
   ]
  },
  {
   "cell_type": "code",
   "execution_count": 2,
   "id": "05cf7d07-7450-4dd2-82b9-113c082887f5",
   "metadata": {},
   "outputs": [],
   "source": [
    "import pyalps\n",
    "import numpy as np\n",
    "import matplotlib.pyplot as plt\n",
    "import pyalps.plot\n",
    "import pyalps.fit_wrapper as fw"
   ]
  },
  {
   "cell_type": "markdown",
   "id": "ad8b0d05-5dcd-4b77-8a71-742abaf855b6",
   "metadata": {},
   "source": [
    "We prepare the input files with various lattice sizes for multiple runs."
   ]
  },
  {
   "cell_type": "code",
   "execution_count": 3,
   "id": "8f373a29-9dd1-449b-9694-b607de139ae8",
   "metadata": {},
   "outputs": [],
   "source": [
    "parms= []\n",
    "for lattice in [32, 64, 96, 128]:\n",
    "    parms.append({\n",
    "            'LATTICE'                   : \"open chain lattice\",\n",
    "            'MODEL'                     : \"spin\",\n",
    "            'CONSERVED_QUANTUMNUMBERS'  : 'Sz',\n",
    "            'Sz_total'                  : 0,\n",
    "            'J'                         : 1,\n",
    "            'SWEEPS'                    : 4,\n",
    "            'L'                         : lattice,\n",
    "            'MAXSTATES'                 : 100,\n",
    "            'NUMBER_EIGENVALUES'        : 2\n",
    "        })"
   ]
  },
  {
   "cell_type": "markdown",
   "id": "18a70ef4-9d9b-4026-af5d-43db15b71687",
   "metadata": {},
   "source": [
    "Notice that we have set the maximum number of states to be kept in the DMRG simulations. The lowest two eigin values will be kept and used to calculate the energy gap. \n",
    "\n",
    "We then write the input files and run the simulations."
   ]
  },
  {
   "cell_type": "code",
   "execution_count": null,
   "id": "7e8b42b3-f3b0-4d6e-a21d-f085e27ad7b4",
   "metadata": {
    "scrolled": true
   },
   "outputs": [],
   "source": [
    "input_file = pyalps.writeInputFiles('parm_spin_one_half_gap_multiple',parms)\n",
    "res = pyalps.runApplication('dmrg',input_file,writexml=True)"
   ]
  },
  {
   "cell_type": "markdown",
   "id": "02fc41bb-c865-4a9f-bdcf-44407d79114d",
   "metadata": {},
   "source": [
    "After the simulations, we load all measurements for all lattices and sort the results according to the lattice sizes."
   ]
  },
  {
   "cell_type": "code",
   "execution_count": 9,
   "id": "793a0bf9-1d43-4763-8e33-1112b4d8cae6",
   "metadata": {},
   "outputs": [],
   "source": [
    "data = pyalps.loadEigenstateMeasurements(pyalps.getResultFiles(prefix='parm_spin_one_half_gap_multiple'))\n",
    "\n",
    "sorted_data = sorted(data, key=lambda x: x[0].props['L'])"
   ]
  },
  {
   "cell_type": "markdown",
   "id": "e1df6ce7-a59a-458c-8a11-896b1604f063",
   "metadata": {},
   "source": [
    "A data set is created for the pyalps plot function. The energy gaps for each lattice size are also included in the data set."
   ]
  },
  {
   "cell_type": "code",
   "execution_count": null,
   "id": "52004f94-30c5-4fd0-b62e-8682736d9bfe",
   "metadata": {
    "scrolled": true
   },
   "outputs": [],
   "source": [
    "gapplot = pyalps.DataSet()\n",
    "gapplot.props['xlabel']='$1/L$'\n",
    "gapplot.props['ylabel']='Gap $\\Delta/J$'\n",
    "gapplot.props['label']='D=100'\n",
    "gapplot.props['line']='.'\n",
    "\n",
    "x = []\n",
    "y = []\n",
    "for measure in sorted_data:\n",
    "    for s in measure:\n",
    "        if s.props['observable'] == 'Energy':\n",
    "            L = s.props['L']\n",
    "            iL = 1.0/L\n",
    "            gap = abs(s.y[1] - s.y[0])\n",
    "            s.props['gap'] = gap\n",
    "            x.append(iL)\n",
    "            y.append(gap)\n",
    "\n",
    "gapplot.x = x\n",
    "gapplot.y = y"
   ]
  },
  {
   "cell_type": "markdown",
   "id": "7905ae90-9ca8-496c-ae03-be6b5a193bf8",
   "metadata": {},
   "source": [
    "We plot the energy gap vs 1/L relation, which is fitted with a linear curve. The fitted curve is also plotted in the same figure."
   ]
  },
  {
   "cell_type": "code",
   "execution_count": null,
   "id": "4cb37027-009e-4234-bc09-9687e422bed5",
   "metadata": {},
   "outputs": [],
   "source": [
    "# plot the gap vs. 1/L curve:\n",
    "plt.figure()\n",
    "pyalps.plot.plot(gapplot)\n",
    "plt.legend()\n",
    "plt.xlim(0,0.04)\n",
    "plt.ylim(0,0.2)\n",
    "\n",
    "# fit the curve with a linear function\n",
    "pars = [fw.Parameter(0.1), fw.Parameter(0.2)]\n",
    "f = lambda self, x, p: p[0]()+p[1]()*x\n",
    "fw.fit(None, f, pars, np.array(gapplot.y), np.array(gapplot.x))\n",
    "\n",
    "# plot the fitted curve\n",
    "x = np.linspace(0.0, 0.035, 100)\n",
    "plt.plot(x, f(None,x,pars))\n",
    "\n",
    "print(\"Gap at thermodynamic limit: \", pars[0]())\n",
    "\n",
    "plt.show()"
   ]
  }
 ],
 "metadata": {
  "kernelspec": {
   "display_name": "Python 3 (ipykernel)",
   "language": "python",
   "name": "python3"
  },
  "language_info": {
   "codemirror_mode": {
    "name": "ipython",
    "version": 3
   },
   "file_extension": ".py",
   "mimetype": "text/x-python",
   "name": "python",
   "nbconvert_exporter": "python",
   "pygments_lexer": "ipython3",
   "version": "3.12.7"
  }
 },
 "nbformat": 4,
 "nbformat_minor": 5
}
