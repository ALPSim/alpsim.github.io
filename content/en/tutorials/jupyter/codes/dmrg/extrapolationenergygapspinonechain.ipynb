{
 "cells": [
  {
   "cell_type": "markdown",
   "id": "fa230afb-9578-4e6f-a11b-9675225e6801",
   "metadata": {},
   "source": [
    "## Extrapolation of Energy Gap for a Spin-1 Chain"
   ]
  },
  {
   "cell_type": "markdown",
   "id": "92e5d13f-20c1-4755-91bf-97947cd0cfe6",
   "metadata": {},
   "source": [
    "In this tutorial, we will perform multiple DMRG simulations of a spin-1 chain with various lattice sizes: 32, 64, 96, and 128. The energy gaps will be calculated for each lattice size and used to extrapolate the gap value in the thermodynamic limit $L\\rightarrow\\infty$, based on a known analytic relation between the gaps and lattice sizes. Our DMRG simulations will have a fixed number of states $D=200$.\n",
    "\n",
    "We first import the necessary libraries."
   ]
  },
  {
   "cell_type": "code",
   "execution_count": 1,
   "id": "ce1c083f-bcea-4bbb-9b9e-d3870c9ec49d",
   "metadata": {},
   "outputs": [],
   "source": [
    "import pyalps\n",
    "import numpy as np\n",
    "import matplotlib.pyplot as plt\n",
    "import pyalps.plot\n",
    "import pyalps.fit_wrapper as fw"
   ]
  },
  {
   "cell_type": "markdown",
   "id": "0d826ca2-7b32-4b64-9594-0143942ba470",
   "metadata": {},
   "source": [
    "We prepare the input files with various lattice sizes 32, 64, 96, and 128 for multiple runs."
   ]
  },
  {
   "cell_type": "code",
   "execution_count": 2,
   "id": "89a58332-114b-4047-9bbb-227407f8c4d8",
   "metadata": {},
   "outputs": [],
   "source": [
    "parms= []\n",
    "for lattice in [32, 64, 96, 128]:\n",
    "    parms.append({\n",
    "            'LATTICE'                   : \"open chain lattice\",\n",
    "            'MODEL'                     : \"spin\",\n",
    "            'local_S'                   : '1',\n",
    "            'CONSERVED_QUANTUMNUMBERS'  : 'Sz',\n",
    "            'Sz_total'                  : 0,\n",
    "            'J'                         : 1,\n",
    "            'SWEEPS'                    : 5,\n",
    "            'L'                         : lattice,\n",
    "            'MAXSTATES'                 : 200,\n",
    "            'NUMBER_EIGENVALUES'        : 4\n",
    "        })"
   ]
  },
  {
   "cell_type": "markdown",
   "id": "9c80d97a-a3e5-4f61-855a-56f6e740f958",
   "metadata": {},
   "source": [
    "Note that we will keep the lowest 4 energies in each DMRG run, since the ground state has 2-fold degeneracy, as known from the previous tutorial.\n",
    "\n",
    "We then write the input files and run the simulations. Warning: the simulation will take a while (about 20 - 30 minutes depending on the computer system you have). You can leave it running and come back later!"
   ]
  },
  {
   "cell_type": "code",
   "execution_count": null,
   "id": "e37077c3-b6f1-4d4d-8103-52e639bc943e",
   "metadata": {},
   "outputs": [],
   "source": [
    "input_file = pyalps.writeInputFiles('parm_spin_one_gap_multiple',parms)\n",
    "res = pyalps.runApplication('dmrg',input_file,writexml=True)"
   ]
  },
  {
   "cell_type": "markdown",
   "id": "7db89aa0-6ec0-409f-bc4c-50cbae82b04d",
   "metadata": {},
   "source": [
    "When all the simulations are done, we load all measurements for all lattices and sort the results according to the lattice sizes. "
   ]
  },
  {
   "cell_type": "code",
   "execution_count": null,
   "id": "7ac9d33e-7e57-46dd-b668-43beea71a1cb",
   "metadata": {},
   "outputs": [],
   "source": [
    "data = pyalps.loadEigenstateMeasurements(pyalps.getResultFiles(prefix='parm_spin_one_gap_multiple'))\n",
    "\n",
    "sorted_data = sorted(data, key=lambda x: x[0].props['L'])"
   ]
  },
  {
   "cell_type": "markdown",
   "id": "e6c76938-3fc2-465f-8ab2-5921d04d6a06",
   "metadata": {},
   "source": [
    "A data set is created for the pyalps plot function. The energy gaps for each lattice size are also included in the data set."
   ]
  },
  {
   "cell_type": "code",
   "execution_count": null,
   "id": "fc178705-c498-4e46-ac85-eadd89a40872",
   "metadata": {},
   "outputs": [],
   "source": [
    "gapplot = pyalps.DataSet()\n",
    "gapplot.props['xlabel']='$1/L^2$'\n",
    "gapplot.props['ylabel']='Gap $\\Delta/J$'\n",
    "gapplot.props['label']='D=200'\n",
    "gapplot.props['line']='.'\n",
    "\n",
    "x = []\n",
    "y = []\n",
    "for measure in sorted_data:\n",
    "    for s in measure:\n",
    "        if s.props['observable'] == 'Energy':\n",
    "            L = s.props['L']\n",
    "            iL = (1.0/L)**2\n",
    "            gap = abs(s.y[2] - s.y[1])\n",
    "            s.props['gap'] = gap\n",
    "            x.append(iL)\n",
    "            y.append(gap)\n",
    "\n",
    "gapplot.x = x\n",
    "gapplot.y = y"
   ]
  },
  {
   "cell_type": "markdown",
   "id": "26c8b71e-ec17-4eae-b3f5-294622daefe3",
   "metadata": {},
   "source": [
    "Note that the $x$-axis is $1/L^2$, which is different from the spin-1/2 case. This is due to the analytic relation between the energy gaps and lattice sizes, as analyzed by Haldane with the nonlinear sigma model for the lowest excitations around $k=\\pi$,\n",
    "$$\n",
    "E(k)=E_0+\\sqrt{\\Delta^2+c^2(k-\\pi)^2}.\n",
    "$$\n",
    "For the open boundary conditions, we may approximate $k-\\pi$ by $1/L$, which gives a finite-system energy gap of \n",
    "$$\n",
    "\\Delta(L)\\approx\\Delta(1+\\frac{c^2}{2\\Delta^2L^2}).\n",
    "$$\n",
    "This indicates that in the asymptotic limit the gap convergence should be as $1/L^2$. \n",
    "\n",
    "Therefore, we plot the energy gap vs. $1/L^2$ relation, which is fitted with a linear curve. The intercept of the fitted curve (plotted in the same figure) with the vertical axis gives the energy gap value in the thermodynamic limit $L\\rightarrow\\infty$."
   ]
  },
  {
   "cell_type": "code",
   "execution_count": null,
   "id": "139f5c2a-31ed-453f-bde1-1773c433f555",
   "metadata": {},
   "outputs": [],
   "source": [
    "# create data set for plot: gap vs. (1/L)^2\n",
    "gapplot = pyalps.DataSet()\n",
    "gapplot.props['xlabel']='$1/L^2$'\n",
    "gapplot.props['ylabel']='Gap $\\Delta/J$'\n",
    "gapplot.props['label']='D=200'\n",
    "gapplot.props['line']='.'\n",
    "\n",
    "x = []\n",
    "y = []\n",
    "for measure in sorted_data:\n",
    "    for s in measure:\n",
    "        if s.props['observable'] == 'Energy':\n",
    "            L = s.props['L']\n",
    "            iL = (1.0/L)**2\n",
    "            gap = abs(s.y[2] - s.y[1])\n",
    "            s.props['gap'] = gap\n",
    "            x.append(iL)\n",
    "            y.append(gap)\n",
    "\n",
    "gapplot.x = x\n",
    "gapplot.y = y\n",
    "\n",
    "# plot the gap vs. (1/L)^2 curve:\n",
    "plt.figure()\n",
    "pyalps.plot.plot(gapplot)\n",
    "plt.legend()\n",
    "plt.xlim(0,0.0011)\n",
    "plt.ylim(0.3,0.5)\n",
    "\n",
    "# fit the curve with a linear function\n",
    "pars = [fw.Parameter(0.1), fw.Parameter(0.2)]\n",
    "f = lambda self, x, p: p[0]()+p[1]()*x\n",
    "fw.fit(None, f, pars, np.array(gapplot.y), np.array(gapplot.x))\n",
    "\n",
    "# plot the fitted curve\n",
    "x = np.linspace(0.0, 0.0011, 100)\n",
    "plt.plot(x, f(None,x,pars))\n",
    "\n",
    "print(\"Gap at thermodynamic limit: \", pars[0]())\n",
    "\n",
    "plt.show()"
   ]
  }
 ],
 "metadata": {
  "kernelspec": {
   "display_name": "Python 3 (ipykernel)",
   "language": "python",
   "name": "python3"
  },
  "language_info": {
   "codemirror_mode": {
    "name": "ipython",
    "version": 3
   },
   "file_extension": ".py",
   "mimetype": "text/x-python",
   "name": "python",
   "nbconvert_exporter": "python",
   "pygments_lexer": "ipython3",
   "version": "3.12.7"
  }
 },
 "nbformat": 4,
 "nbformat_minor": 5
}
