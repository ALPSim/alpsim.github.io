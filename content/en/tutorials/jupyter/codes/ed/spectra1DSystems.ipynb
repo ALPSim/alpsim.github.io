{
 "cells": [
  {
   "cell_type": "markdown",
   "id": "32ddf6cb-6e04-4dd5-8214-ab24bbf320c0",
   "metadata": {},
   "source": [
    "## Spectra of 1D Quantum Systems\n",
    "\n",
    "In this tutorial we will calculate the energy spectra of the quantum Heisenberg model on various 1D lattices. The main work will be done by the `sparsediag` application, which implements the Lanczos algorithm, an iterative eigensolver, to obtain energies in different momentum sectors. The collected data will be plotted to show the energy-momentum spectra of 1D quantum Heisenberg model on various 1D lattices.\n",
    "\n",
    "### Heisenberg Chain\n",
    "\n",
    "#### Introduction\n",
    "\n",
    "The Hamiltonian for the spin-1/2 Heisenberg chain is given by \n",
    "$$H = J\\sum_{\\langle i,j \\rangle} \\mathbf{S}^i \\cdot \\mathbf{S}^j$$,\n",
    "where $J>0$ for antiferromagnetic interactions between two nearest-neighbour spins $\\mathbf{S}^i$ and $\\mathbf{S}^j$, and the spin-spin interaction consists of three components, i.e., \n",
    "$$\\mathbf{S}^i \\cdot \\mathbf{S}^j=S^i_xS^j_x+S^i_yS^j_y+S^i_zS^j_z$$.\n",
    "\n",
    "The basis states are usually chosen to be the eigen states of $S_z$ operator. For a spin-1/2 system, there are two basis states for each lattice site, $|-1/2\\rangle$ and $|+1/2\\rangle$. The application of $S_x$ and $S_y$ operators on these basis states can be expressed in terms of raising $S^{\\dagger}$ and lowering $S^{-}$ operators:\n",
    "$$S_x=\\frac{1}{2}(S^{\\dagger}+S^{-})$$,\n",
    "$$S_y=\\frac{1}{2i}(S^{\\dagger}-S^{-})$$, \n",
    "who act on the basis states in the following way:\n",
    "$$S^{\\dagger}|s\\rangle = \\sqrt{S(S+1)-s(s+1)}|s+1\\rangle$$,\n",
    "$$S^{-}|s\\rangle = \\sqrt{S(S+1)-s(s-1)}|s-1\\rangle$$,\n",
    "where $S=1/2$ and $s=-1/2, 1/2$.\n",
    "\n",
    "With the above basis states for each lattice site, the Hamiltonian can be written as a Hermitian matrix. The size of the matrix can be reduced when the total magnetization is fixed, i.e., setting Sz_total = 0 (singlet sector) or Sz_total = 1 (triplet sector) in the simulations. To further reduce the size of the Hamiltonian matrix and obtain the momentum dependence of the energy spectra, we can further restrict the simulations in different lattice momentum sectors $P=0, 1, 2, \\cdots$. \n"
   ]
  },
  {
   "cell_type": "markdown",
   "id": "b73fa158-592c-46e8-9dc8-edb46d053ac1",
   "metadata": {},
   "source": [
    "#### Simulation\n",
    "\n",
    "To obtain the energy spectrum for the Heisenberg chain, we follow the steps below.\n",
    "\n",
    "We first import the required modules."
   ]
  },
  {
   "cell_type": "code",
   "execution_count": 29,
   "id": "7a7c30ad-681b-40d7-b3e4-fd8cbb9b8e47",
   "metadata": {},
   "outputs": [],
   "source": [
    "import pyalps\n",
    "import numpy as np\n",
    "import matplotlib as plt\n",
    "import pyalps.plot"
   ]
  },
  {
   "cell_type": "markdown",
   "id": "f1a32cc9-16f8-4d70-9d1a-82515b6c26a9",
   "metadata": {},
   "source": [
    "Prepare the input parameters for 4 different lattice sizes: $L=10, 12, 14$, and $16$."
   ]
  },
  {
   "cell_type": "code",
   "execution_count": 30,
   "id": "d0c92524-7ef4-46d1-b7c5-a1149132f523",
   "metadata": {},
   "outputs": [],
   "source": [
    "parms=[]\n",
    "for l in [10, 12, 14, 16]:\n",
    "    parms.append(\n",
    "      { \n",
    "        'LATTICE'                   : \"chain lattice\", \n",
    "        'MODEL'                     : \"spin\",\n",
    "        'local_S'                   : 0.5,\n",
    "        'J'                         : 1,\n",
    "        'L'                         : l,\n",
    "        'CONSERVED_QUANTUMNUMBERS'  : 'Sz',\n",
    "        'Sz_total'                  : 0\n",
    "      }\n",
    "    )"
   ]
  },
  {
   "cell_type": "markdown",
   "id": "441639f6-9f62-4801-9fd4-ff225d3531fe",
   "metadata": {},
   "source": [
    "Write the input file and run the simulation."
   ]
  },
  {
   "cell_type": "code",
   "execution_count": 31,
   "id": "749d6604-baf5-4c84-b310-46586bafb918",
   "metadata": {},
   "outputs": [
    {
     "name": "stdout",
     "output_type": "stream",
     "text": [
      "sparsediag parm_chain.in.xml\n",
      "ALPS sparse diagonalization application version 1.1\n",
      "  available from http://alps.comp-phys.org/\n",
      "  copyright (c) 2003-2007 by Matthias Troyer <troyer@comp-phys.org>\n",
      " for details see the publication:\n",
      "  A.F. Albuquerque et al., J. of Magn. and Magn. Materials 310, 1187 (2007).\n",
      "\n",
      "using the ALPS parallelizing scheduler\n",
      "  copyright (c) 1994-2006 by Matthias Troyer <troyer@comp-phys.org>.\n",
      "  see Lecture Notes in Computer Science, Vol. 1505, p. 191 (1998).\n",
      "\n",
      "based on the ALPS libraries version 2.3.0\n",
      "  available from http://alps.comp-phys.org/\n",
      "  copyright (c) 1994-2016 by the ALPS collaboration.\n",
      "  Consult the web page for license details.\n",
      "  For details see the publication: \n",
      "  B. Bauer et al., J. Stat. Mech. (2011) P05001.\n",
      "\n",
      "parsing task files ... \n",
      "Starting task 1.\n"
     ]
    },
    {
     "name": "stderr",
     "output_type": "stream",
     "text": [
      "Starting Lanczos \n",
      "Finished Lanczos\n",
      "Starting Lanczos \n",
      "Finished Lanczos\n",
      "Starting Lanczos \n",
      "Finished Lanczos\n",
      "Starting Lanczos \n",
      "Finished Lanczos\n",
      "Starting Lanczos \n",
      "Finished Lanczos\n",
      "Starting Lanczos \n",
      "Finished Lanczos\n",
      "Starting Lanczos \n",
      "Finished Lanczos\n",
      "Starting Lanczos \n",
      "Finished Lanczos\n",
      "Starting Lanczos \n",
      "Finished Lanczos\n",
      "Starting Lanczos \n",
      "Finished Lanczos\n",
      "0 sectors\n",
      "Starting Lanczos \n",
      "Finished Lanczos\n"
     ]
    },
    {
     "name": "stdout",
     "output_type": "stream",
     "text": [
      "Checking if it is finished: not yet, next check in 60 seconds ( 0% done).\n",
      "Halted Simulation 1\n",
      "This task took 1 seconds.\n",
      "Checkpointing Simulation 1\n",
      "Checkpointing Simulation 2\n",
      "Checkpointing Simulation 3\n",
      "Checkpointing Simulation 4\n",
      "Starting task 2.\n"
     ]
    },
    {
     "name": "stderr",
     "output_type": "stream",
     "text": [
      "Starting Lanczos \n",
      "Finished Lanczos\n",
      "Starting Lanczos \n",
      "Finished Lanczos\n",
      "Starting Lanczos \n",
      "Finished Lanczos\n",
      "Starting Lanczos \n",
      "Finished Lanczos\n",
      "Starting Lanczos \n",
      "Finished Lanczos\n",
      "Starting Lanczos \n",
      "Finished Lanczos\n",
      "Starting Lanczos \n",
      "Finished Lanczos\n",
      "Starting Lanczos \n",
      "Finished Lanczos\n",
      "Starting Lanczos \n",
      "Finished Lanczos\n",
      "Starting Lanczos \n",
      "Finished Lanczos\n",
      "Starting Lanczos \n",
      "Finished Lanczos\n",
      "0 sectors\n",
      "Starting Lanczos \n",
      "Finished Lanczos\n"
     ]
    },
    {
     "name": "stdout",
     "output_type": "stream",
     "text": [
      "Checking if it is finished: not yet, next check in 60 seconds ( 0% done).\n",
      "Halted Simulation 2\n",
      "This task took 2 seconds.\n",
      "Checkpointing Simulation 1\n",
      "Checkpointing Simulation 2\n",
      "Checkpointing Simulation 3\n",
      "Checkpointing Simulation 4\n",
      "Starting task 3.\n"
     ]
    },
    {
     "name": "stderr",
     "output_type": "stream",
     "text": [
      "Starting Lanczos \n",
      "Finished Lanczos\n",
      "Starting Lanczos \n",
      "Finished Lanczos\n",
      "Starting Lanczos \n",
      "Finished Lanczos\n",
      "Starting Lanczos \n",
      "Finished Lanczos\n",
      "Starting Lanczos \n",
      "Finished Lanczos\n",
      "Starting Lanczos \n",
      "Finished Lanczos\n",
      "Starting Lanczos \n",
      "Finished Lanczos\n",
      "Starting Lanczos \n",
      "Finished Lanczos\n",
      "Starting Lanczos \n",
      "Finished Lanczos\n",
      "Starting Lanczos \n",
      "Finished Lanczos\n",
      "Starting Lanczos \n",
      "Finished Lanczos\n",
      "Starting Lanczos \n",
      "Finished Lanczos\n",
      "Starting Lanczos \n",
      "Finished Lanczos\n",
      "0 sectors\n"
     ]
    },
    {
     "name": "stdout",
     "output_type": "stream",
     "text": [
      "Checking if it is finished: not yet, next check in 60 seconds ( 0% done).\n",
      "Halted Simulation 3\n",
      "This task took 2 seconds.\n",
      "Checkpointing Simulation 1\n",
      "Checkpointing Simulation 2\n",
      "Checkpointing Simulation 3\n",
      "Checkpointing Simulation 4\n",
      "Starting task 4.\n"
     ]
    },
    {
     "name": "stderr",
     "output_type": "stream",
     "text": [
      "Starting Lanczos \n",
      "Finished Lanczos\n",
      "Starting Lanczos \n",
      "Finished Lanczos\n",
      "Starting Lanczos \n",
      "Finished Lanczos\n",
      "Starting Lanczos \n",
      "Finished Lanczos\n",
      "Starting Lanczos \n",
      "Finished Lanczos\n",
      "Starting Lanczos \n",
      "Finished Lanczos\n",
      "Starting Lanczos \n",
      "Finished Lanczos\n",
      "Starting Lanczos \n",
      "Finished Lanczos\n",
      "Starting Lanczos \n",
      "Finished Lanczos\n",
      "Starting Lanczos \n",
      "Finished Lanczos\n",
      "Starting Lanczos \n",
      "Finished Lanczos\n",
      "Starting Lanczos \n",
      "Finished Lanczos\n",
      "Starting Lanczos \n",
      "Finished Lanczos\n",
      "Starting Lanczos \n",
      "Finished Lanczos\n",
      "Starting Lanczos \n",
      "Finished Lanczos\n"
     ]
    },
    {
     "name": "stdout",
     "output_type": "stream",
     "text": [
      "Checking if it is finished: not yet, next check in 60 seconds ( 0% done).\n",
      "Halted Simulation 4\n",
      "This task took 3 seconds.\n",
      "Checkpointing Simulation 1\n",
      "Checkpointing Simulation 2\n",
      "Checkpointing Simulation 3\n",
      "Checkpointing Simulation 4\n",
      "Finished with everything.\n"
     ]
    },
    {
     "name": "stderr",
     "output_type": "stream",
     "text": [
      "Starting Lanczos \n",
      "Finished Lanczos\n"
     ]
    }
   ],
   "source": [
    "input_file = pyalps.writeInputFiles('parm_chain',parms)\n",
    "res = pyalps.runApplication('sparsediag',input_file)"
   ]
  },
  {
   "cell_type": "markdown",
   "id": "57dacf6e-8fa4-4e51-aec1-361d8e011d73",
   "metadata": {},
   "source": [
    "Load all measurements for all states, and collect spectra over all momenta for every simulation."
   ]
  },
  {
   "cell_type": "code",
   "execution_count": 32,
   "id": "6ac2cc1e-0875-43c2-bfc1-b303eeff0ad5",
   "metadata": {},
   "outputs": [],
   "source": [
    "data = pyalps.loadSpectra(pyalps.getResultFiles(prefix='parm_chain'))\n",
    "\n",
    "spectra = {}\n",
    "for sim in data:\n",
    "  l = int(sim[0].props['L'])\n",
    "  all_energies = []\n",
    "  spectrum = pyalps.DataSet()\n",
    "  for sec in sim:\n",
    "    all_energies += list(sec.y)\n",
    "    spectrum.x = np.concatenate((spectrum.x,np.array([sec.props['TOTAL_MOMENTUM'] for i in range(len(sec.y))])))\n",
    "    spectrum.y = np.concatenate((spectrum.y,sec.y))\n",
    "  spectrum.y -= np.min(all_energies)\n",
    "  spectrum.props['line'] = 'scatter'\n",
    "  spectrum.props['label'] = 'L='+str(l)\n",
    "  spectra[l] = spectrum"
   ]
  },
  {
   "cell_type": "markdown",
   "id": "776a57ec-eaea-4c9b-8b1e-f4b707b0e1bf",
   "metadata": {},
   "source": [
    "Plot the energy vs. momentum spectrum."
   ]
  },
  {
   "cell_type": "code",
   "execution_count": 33,
   "id": "f97aa5bd-42f4-4425-886d-30e9d2e87091",
   "metadata": {},
   "outputs": [],
   "source": [
    "plt.pyplot.figure()\n",
    "pyalps.plot.plot(spectra.values())\n",
    "plt.pyplot.legend()\n",
    "plt.pyplot.title('Antiferromagnetic Heisenberg chain (S=1/2)')\n",
    "plt.pyplot.ylabel('Energy')\n",
    "plt.pyplot.xlabel('Momentum')\n",
    "plt.pyplot.xlim(0,2*3.1416)\n",
    "plt.pyplot.ylim(0,2)\n",
    "plt.pyplot.show()\n"
   ]
  },
  {
   "cell_type": "markdown",
   "id": "c01e5637-5cf5-42d3-87f9-d35ff137fc6c",
   "metadata": {},
   "source": [
    "### Two-leg Heisenberg Ladder\n",
    "\n",
    "#### Introduction\n",
    "\n",
    "The Hamiltonian for the two-leg spin-1/2 Heisenberg chain is given by \n",
    "$$H = J_0\\sum_{\\langle \\alpha i,\\alpha j \\rangle} \\mathbf{S}^{\\alpha i} \\cdot \\mathbf{S}^{\\alpha j} + J_1\\sum_{\\langle 1 i,2 i \\rangle} \\mathbf{S}^{1 i} \\cdot \\mathbf{S}^{2 i}$$,\n",
    "where, $\\alpha=1,2$ denotes the two legs/chains, $i,j=1,2,\\cdots,L$ label lattice sites within a chain, $J_0>0$ is the intra-chain antiferromagnetic interactions between two nearest-neighbour spins $\\mathbf{S}^{\\alpha i}$ and $\\mathbf{S}^{\\alpha j}$ in the same chain, and $J_1>0$ is the inter-chain spin-spin coupling between $\\mathbf{S}^{1 i}$ from the first leg and $\\mathbf{S}^{2 i}$ from the second leg with $i=1,2,\\cdots,L$. "
   ]
  },
  {
   "cell_type": "markdown",
   "id": "a55176d4-0562-4423-8cfa-4baa9f3cf315",
   "metadata": {},
   "source": [
    "#### Simulation\n",
    "\n",
    "We first import the required modules."
   ]
  },
  {
   "cell_type": "code",
   "execution_count": 34,
   "id": "1def16a7-ef59-4219-97d3-e9421c1be99a",
   "metadata": {},
   "outputs": [],
   "source": [
    "import pyalps\n",
    "import numpy as np\n",
    "import matplotlib as plt\n",
    "import pyalps.plot"
   ]
  },
  {
   "cell_type": "markdown",
   "id": "4cc62060-1c08-4755-b3b7-166287c8de45",
   "metadata": {},
   "source": [
    "Prepare the input parameters by setting values for the intra- and inter-chain interactions J0 and J1, and the chain lengths L=6,8, and 10."
   ]
  },
  {
   "cell_type": "code",
   "execution_count": 35,
   "id": "02912b64-5af1-4d20-9b99-a245d0212d2a",
   "metadata": {},
   "outputs": [],
   "source": [
    "parms=[]\n",
    "for l in [6, 8, 10]:\n",
    "    parms.append(\n",
    "      { \n",
    "        'LATTICE'                   : \"ladder\", \n",
    "        'MODEL'                     : \"spin\",\n",
    "        'local_S'                   : 0.5,\n",
    "        'J0'                        : 1,\n",
    "        'J1'                        : 1,\n",
    "        'L'                         : l,\n",
    "        'CONSERVED_QUANTUMNUMBERS'  : 'Sz',\n",
    "        'Sz_total'                  : 0\n",
    "      }\n",
    "    )\n"
   ]
  },
  {
   "cell_type": "markdown",
   "id": "714941e2-cf84-464e-bcb4-047a6a1dc13c",
   "metadata": {},
   "source": [
    "Write the input file and run the simulation"
   ]
  },
  {
   "cell_type": "code",
   "execution_count": 36,
   "id": "5a08680b-fdf6-4007-b89a-d2c379228064",
   "metadata": {},
   "outputs": [
    {
     "name": "stdout",
     "output_type": "stream",
     "text": [
      "sparsediag parm_ladder.in.xml\n",
      "ALPS sparse diagonalization application version 1.1\n",
      "  available from http://alps.comp-phys.org/\n",
      "  copyright (c) 2003-2007 by Matthias Troyer <troyer@comp-phys.org>\n",
      " for details see the publication:\n",
      "  A.F. Albuquerque et al., J. of Magn. and Magn. Materials 310, 1187 (2007).\n",
      "\n",
      "using the ALPS parallelizing scheduler\n",
      "  copyright (c) 1994-2006 by Matthias Troyer <troyer@comp-phys.org>.\n",
      "  see Lecture Notes in Computer Science, Vol. 1505, p. 191 (1998).\n",
      "\n",
      "based on the ALPS libraries version 2.3.0\n",
      "  available from http://alps.comp-phys.org/\n",
      "  copyright (c) 1994-2016 by the ALPS collaboration.\n",
      "  Consult the web page for license details.\n",
      "  For details see the publication: \n",
      "  B. Bauer et al., J. Stat. Mech. (2011) P05001.\n",
      "\n",
      "parsing task files ... \n",
      "Starting task 1.\n"
     ]
    },
    {
     "name": "stderr",
     "output_type": "stream",
     "text": [
      "Starting Lanczos \n",
      "Finished Lanczos\n",
      "Starting Lanczos \n",
      "Finished Lanczos\n",
      "Starting Lanczos \n",
      "Finished Lanczos\n",
      "Starting Lanczos \n",
      "Finished Lanczos\n",
      "Starting Lanczos \n",
      "Finished Lanczos\n",
      "Starting Lanczos \n",
      "Finished Lanczos\n"
     ]
    },
    {
     "name": "stdout",
     "output_type": "stream",
     "text": [
      "Checking if it is finished: not yet, next check in 60 seconds ( 0% done).\n",
      "Halted Simulation 1\n",
      "This task took 1 seconds.\n",
      "Checkpointing Simulation 1\n",
      "Checkpointing Simulation 2\n",
      "Checkpointing Simulation 3\n"
     ]
    },
    {
     "name": "stderr",
     "output_type": "stream",
     "text": [
      "0 sectors\n"
     ]
    },
    {
     "name": "stdout",
     "output_type": "stream",
     "text": [
      "Starting task 2.\n"
     ]
    },
    {
     "name": "stderr",
     "output_type": "stream",
     "text": [
      "Starting Lanczos \n",
      "Finished Lanczos\n",
      "Starting Lanczos \n",
      "Finished Lanczos\n",
      "Starting Lanczos \n",
      "Finished Lanczos\n",
      "Starting Lanczos \n",
      "Finished Lanczos\n",
      "Starting Lanczos \n",
      "Finished Lanczos\n",
      "Starting Lanczos \n",
      "Finished Lanczos\n",
      "Starting Lanczos \n",
      "Finished Lanczos\n",
      "Starting Lanczos \n",
      "Finished Lanczos\n",
      "0 sectors\n"
     ]
    },
    {
     "name": "stdout",
     "output_type": "stream",
     "text": [
      "Checking if it is finished: not yet, next check in 60 seconds ( 0% done).\n",
      "Halted Simulation 2\n",
      "This task took 3 seconds.\n",
      "Checkpointing Simulation 1\n",
      "Checkpointing Simulation 2\n",
      "Checkpointing Simulation 3\n",
      "Starting task 3.\n"
     ]
    },
    {
     "name": "stderr",
     "output_type": "stream",
     "text": [
      "Starting Lanczos \n",
      "Finished Lanczos\n",
      "Starting Lanczos \n",
      "Finished Lanczos\n",
      "Starting Lanczos \n",
      "Finished Lanczos\n",
      "Starting Lanczos \n",
      "Finished Lanczos\n",
      "Starting Lanczos \n",
      "Finished Lanczos\n",
      "Starting Lanczos \n",
      "Finished Lanczos\n",
      "Starting Lanczos \n",
      "Finished Lanczos\n",
      "Starting Lanczos \n",
      "Finished Lanczos\n",
      "Starting Lanczos \n",
      "Finished Lanczos\n",
      "Starting Lanczos \n"
     ]
    },
    {
     "name": "stdout",
     "output_type": "stream",
     "text": [
      "Checking if it is finished: not yet, next check in 60 seconds ( 0% done).\n",
      "Halted Simulation 3\n",
      "This task took 14 seconds.\n",
      "Checkpointing Simulation 1\n",
      "Checkpointing Simulation 2\n",
      "Checkpointing Simulation 3\n",
      "Finished with everything.\n"
     ]
    },
    {
     "name": "stderr",
     "output_type": "stream",
     "text": [
      "Finished Lanczos\n"
     ]
    }
   ],
   "source": [
    "input_file = pyalps.writeInputFiles('parm_ladder',parms)\n",
    "res = pyalps.runApplication('sparsediag',input_file)"
   ]
  },
  {
   "cell_type": "markdown",
   "id": "62678dd6-deb9-4dc8-bf46-894c3193d9d5",
   "metadata": {},
   "source": [
    "Load all measurements for all states, and collect spectra over all momenta for every simulation."
   ]
  },
  {
   "cell_type": "code",
   "execution_count": 37,
   "id": "3fcd1c09-f5cb-4cec-8233-cfa9fdb876bd",
   "metadata": {},
   "outputs": [],
   "source": [
    "data = pyalps.loadSpectra(pyalps.getResultFiles(prefix='parm_ladder'))\n",
    "\n",
    "spectra = {}\n",
    "for sim in data:\n",
    "  l = int(sim[0].props['L'])\n",
    "  all_energies = []\n",
    "  spectrum = pyalps.DataSet()\n",
    "  for sec in sim:\n",
    "    all_energies += list(sec.y)\n",
    "    spectrum.x = np.concatenate((spectrum.x,np.array([sec.props['TOTAL_MOMENTUM'] for i in range(len(sec.y))])))\n",
    "    spectrum.y = np.concatenate((spectrum.y,sec.y))\n",
    "  spectrum.y -= np.min(all_energies)\n",
    "  spectrum.props['line'] = 'scatter'\n",
    "  spectrum.props['label'] = 'L='+str(l)\n",
    "  spectra[l] = spectrum"
   ]
  },
  {
   "cell_type": "markdown",
   "id": "87084d97-840d-4b9e-92d1-d50127e66982",
   "metadata": {},
   "source": [
    "Plot the energy spectrum."
   ]
  },
  {
   "cell_type": "code",
   "execution_count": 38,
   "id": "ff5fbcf2-6fef-42a8-89bb-b74a0513f099",
   "metadata": {},
   "outputs": [],
   "source": [
    "plt.pyplot.figure()\n",
    "pyalps.plot.plot(spectra.values())\n",
    "plt.pyplot.legend()\n",
    "plt.pyplot.title('Antiferromagnetic Heisenberg ladder (S=1/2)')\n",
    "plt.pyplot.ylabel('Energy')\n",
    "plt.pyplot.xlabel('Momentum')\n",
    "plt.pyplot.xlim(0,2*3.1416)\n",
    "plt.pyplot.ylim(0,2.5)\n",
    "plt.pyplot.show()"
   ]
  },
  {
   "cell_type": "markdown",
   "id": "6cd79ef8-29c6-4014-9606-b18505d35a4c",
   "metadata": {
    "jupyter": {
     "source_hidden": true
    }
   },
   "source": [
    "### Isolated Dimers\n",
    "\n",
    "#### Introduction\n",
    "\n",
    "For our third simulation, we start with the same Hamiltonian as in the previous case\n",
    "$$H = J_0\\sum_{\\langle \\alpha i,\\alpha j \\rangle} \\mathbf{S}^{\\alpha i} \\cdot \\mathbf{S}^{\\alpha j} + J_1\\sum_{\\langle 1 i,2 i \\rangle} \\mathbf{S}^{1 i} \\cdot \\mathbf{S}^{2 i}$$,\n",
    "where, $\\alpha=1,2$ denotes the two legs/chains, $i,j=1,2,\\cdots,L$ label lattice sites within a chain, we set $J_0=0$, i.e., no intra-chain interactions between two nearest-neighbour spins, and $J_1=1$ is the inter-chain spin-spin coupling between $\\mathbf{S}^{1 i}$ and $\\mathbf{S}^{2 i}$ with $i=1,2,\\cdots,L$. The system then becomes $L$ isolated dimers. "
   ]
  },
  {
   "cell_type": "markdown",
   "id": "ba6547d6-6ff0-4223-802c-b37beccc2ca5",
   "metadata": {},
   "source": [
    "#### Simulation\n",
    "\n",
    "We first import the required modules."
   ]
  },
  {
   "cell_type": "code",
   "execution_count": 39,
   "id": "47a19a79-2716-4921-a356-8c73eebb8120",
   "metadata": {},
   "outputs": [],
   "source": [
    "import pyalps\n",
    "import numpy as np\n",
    "import matplotlib as plt\n",
    "import pyalps.plot"
   ]
  },
  {
   "cell_type": "markdown",
   "id": "50b5f7fa-64ae-4954-8ba7-3cc8ec328916",
   "metadata": {},
   "source": [
    "Prepare the input parameters."
   ]
  },
  {
   "cell_type": "code",
   "execution_count": 40,
   "id": "d5222896-af72-438a-b04b-0c709ea70970",
   "metadata": {},
   "outputs": [],
   "source": [
    "parms=[]\n",
    "for l in [6, 8, 10]:\n",
    "    parms.append(\n",
    "      { \n",
    "        'LATTICE'                   : \"ladder\", \n",
    "        'MODEL'                     : \"spin\",\n",
    "        'local_S'                   : 0.5,\n",
    "        'J0'                        : 0,\n",
    "        'J1'                        : 1,\n",
    "        'L'                         : l,\n",
    "        'CONSERVED_QUANTUMNUMBERS'  : 'Sz',\n",
    "        'Sz_total'                  : 0\n",
    "      }\n",
    "    )"
   ]
  },
  {
   "cell_type": "markdown",
   "id": "0b00717f-5261-4b48-9990-7930a62d574d",
   "metadata": {},
   "source": [
    "Write the input file and run the simulation."
   ]
  },
  {
   "cell_type": "code",
   "execution_count": 41,
   "id": "c754b4a0-bbf6-4673-8382-371bb78da908",
   "metadata": {},
   "outputs": [
    {
     "name": "stdout",
     "output_type": "stream",
     "text": [
      "sparsediag parm_dimers.in.xml\n",
      "ALPS sparse diagonalization application version 1.1\n",
      "  available from http://alps.comp-phys.org/\n",
      "  copyright (c) 2003-2007 by Matthias Troyer <troyer@comp-phys.org>\n",
      " for details see the publication:\n",
      "  A.F. Albuquerque et al., J. of Magn. and Magn. Materials 310, 1187 (2007).\n",
      "\n",
      "using the ALPS parallelizing scheduler\n",
      "  copyright (c) 1994-2006 by Matthias Troyer <troyer@comp-phys.org>.\n",
      "  see Lecture Notes in Computer Science, Vol. 1505, p. 191 (1998).\n",
      "\n",
      "based on the ALPS libraries version 2.3.0\n",
      "  available from http://alps.comp-phys.org/\n",
      "  copyright (c) 1994-2016 by the ALPS collaboration.\n",
      "  Consult the web page for license details.\n",
      "  For details see the publication: \n",
      "  B. Bauer et al., J. Stat. Mech. (2011) P05001.\n",
      "\n",
      "parsing task files ... \n",
      "Starting task 1.\n"
     ]
    },
    {
     "name": "stderr",
     "output_type": "stream",
     "text": [
      "Starting Lanczos \n",
      "Finished Lanczos\n",
      "Starting Lanczos \n",
      "Finished Lanczos\n",
      "Starting Lanczos \n",
      "Finished Lanczos\n",
      "Starting Lanczos \n",
      "Finished Lanczos\n",
      "Starting Lanczos \n",
      "Finished Lanczos\n",
      "Starting Lanczos \n",
      "Finished Lanczos\n"
     ]
    },
    {
     "name": "stdout",
     "output_type": "stream",
     "text": [
      "Checking if it is finished: not yet, next check in 60 seconds ( 0% done).\n",
      "Halted Simulation 1\n",
      "This task took 1 seconds.\n",
      "Checkpointing Simulation 1\n",
      "Checkpointing Simulation 2\n",
      "Checkpointing Simulation 3\n",
      "Starting task 2.\n"
     ]
    },
    {
     "name": "stderr",
     "output_type": "stream",
     "text": [
      "0 sectors\n",
      "Starting Lanczos \n",
      "Finished Lanczos\n",
      "Starting Lanczos \n",
      "Finished Lanczos\n",
      "Starting Lanczos \n",
      "Finished Lanczos\n",
      "Starting Lanczos \n",
      "Finished Lanczos\n",
      "Starting Lanczos \n",
      "Finished Lanczos\n",
      "Starting Lanczos \n",
      "Finished Lanczos\n",
      "Starting Lanczos \n",
      "Finished Lanczos\n",
      "Starting Lanczos \n",
      "Finished Lanczos\n",
      "0 sectors\n"
     ]
    },
    {
     "name": "stdout",
     "output_type": "stream",
     "text": [
      "Checking if it is finished: not yet, next check in 60 seconds ( 0% done).\n",
      "Halted Simulation 2\n",
      "This task took 1 seconds.\n",
      "Checkpointing Simulation 1\n",
      "Checkpointing Simulation 2\n",
      "Checkpointing Simulation 3\n",
      "Starting task 3.\n"
     ]
    },
    {
     "name": "stderr",
     "output_type": "stream",
     "text": [
      "Starting Lanczos \n",
      "Finished Lanczos\n",
      "Starting Lanczos \n",
      "Finished Lanczos\n",
      "Starting Lanczos \n",
      "Finished Lanczos\n",
      "Starting Lanczos \n",
      "Finished Lanczos\n",
      "Starting Lanczos \n",
      "Finished Lanczos\n",
      "Starting Lanczos \n",
      "Finished Lanczos\n",
      "Starting Lanczos \n",
      "Finished Lanczos\n",
      "Starting Lanczos \n",
      "Finished Lanczos\n",
      "Starting Lanczos \n",
      "Finished Lanczos\n"
     ]
    },
    {
     "name": "stdout",
     "output_type": "stream",
     "text": [
      "Checking if it is finished: not yet, next check in 60 seconds ( 0% done).\n",
      "Halted Simulation 3\n",
      "This task took 7 seconds.\n",
      "Checkpointing Simulation 1\n",
      "Checkpointing Simulation 2\n",
      "Checkpointing Simulation 3\n",
      "Finished with everything.\n"
     ]
    },
    {
     "name": "stderr",
     "output_type": "stream",
     "text": [
      "Starting Lanczos \n",
      "Finished Lanczos\n"
     ]
    }
   ],
   "source": [
    "input_file = pyalps.writeInputFiles('parm_dimers',parms)\n",
    "res = pyalps.runApplication('sparsediag',input_file)"
   ]
  },
  {
   "cell_type": "markdown",
   "id": "8edf182d-4867-4848-8862-2f132e93072a",
   "metadata": {},
   "source": [
    "Load all measurements for all states."
   ]
  },
  {
   "cell_type": "code",
   "execution_count": 42,
   "id": "8fcacfc7-d353-4539-9c71-e1f7a95ad5e9",
   "metadata": {},
   "outputs": [],
   "source": [
    "data = pyalps.loadSpectra(pyalps.getResultFiles(prefix='parm_dimers'))"
   ]
  },
  {
   "cell_type": "markdown",
   "id": "cc685e3a-2da1-4068-93cc-2f431fdf6935",
   "metadata": {},
   "source": [
    "Collect spectra over all momenta for every simulation."
   ]
  },
  {
   "cell_type": "code",
   "execution_count": 43,
   "id": "58ba02f8-8f0c-479f-9a79-b05aa4339b2f",
   "metadata": {},
   "outputs": [],
   "source": [
    "spectra = {}\n",
    "for sim in data:\n",
    "  l = int(sim[0].props['L'])\n",
    "  all_energies = []\n",
    "  spectrum = pyalps.DataSet()\n",
    "  for sec in sim:\n",
    "    all_energies += list(sec.y)\n",
    "    spectrum.x = np.concatenate((spectrum.x,np.array([sec.props['TOTAL_MOMENTUM'] for i in range(len(sec.y))])))\n",
    "    spectrum.y = np.concatenate((spectrum.y,sec.y))\n",
    "  spectrum.y -= np.min(all_energies)\n",
    "  spectrum.props['line'] = 'scatter'\n",
    "  spectrum.props['label'] = 'L='+str(l)\n",
    "  spectra[l] = spectrum\n"
   ]
  },
  {
   "cell_type": "markdown",
   "id": "1ba535a8-f294-4740-9e15-185fb672f04a",
   "metadata": {},
   "source": [
    "We then plot the energy spectrum."
   ]
  },
  {
   "cell_type": "code",
   "execution_count": 44,
   "id": "dda33ca1-ef3d-435b-8a7f-52a8dfebc6c7",
   "metadata": {},
   "outputs": [],
   "source": [
    "plt.pyplot.figure()\n",
    "pyalps.plot.plot(spectra.values())\n",
    "plt.pyplot.legend()\n",
    "plt.pyplot.title('Isolated antiferromagnetic S=1/2 dimers')\n",
    "plt.pyplot.ylabel('Energy')\n",
    "plt.pyplot.xlabel('Momentum')\n",
    "plt.pyplot.xlim(0,2*3.1416)\n",
    "plt.pyplot.ylim(0,2.5)\n",
    "plt.pyplot.show()"
   ]
  },
  {
   "cell_type": "code",
   "execution_count": null,
   "id": "c7080fe9-50c2-4205-a0d1-8c91e312480b",
   "metadata": {},
   "outputs": [],
   "source": []
  }
 ],
 "metadata": {
  "kernelspec": {
   "display_name": "Python 3 (ipykernel)",
   "language": "python",
   "name": "python3"
  },
  "language_info": {
   "codemirror_mode": {
    "name": "ipython",
    "version": 3
   },
   "file_extension": ".py",
   "mimetype": "text/x-python",
   "name": "python",
   "nbconvert_exporter": "python",
   "pygments_lexer": "ipython3",
   "version": "3.12.7"
  }
 },
 "nbformat": 4,
 "nbformat_minor": 5
}
