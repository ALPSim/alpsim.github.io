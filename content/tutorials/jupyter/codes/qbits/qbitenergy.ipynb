{
 "cells": [
  {
   "cell_type": "markdown",
   "id": "5ad01992-1903-4ea8-b1c4-cd4618ba2f17",
   "metadata": {},
   "source": [
    "In this turotial we will explore how to set up arbitrary lattice configurations to house qbits and assign various interactions between qbits to simulate qbit operations. Our results on energy spectrums could be benchmarks of initial qbit setups for quantum computing theories/experiments. \n",
    "\n",
    "## Mixed 4-site Qbits\n",
    "\n",
    "### Introduction\n",
    "\n",
    "We first use the 4-site mixed graph in the lattice configuration file: `lattices.xml`\n",
    "```\n",
    "<GRAPH name=\"4-site mixed\" vertices=\"4\"> \n",
    "  <VERTEX id=\"1\" type=\"0\"/>\n",
    "  <VERTEX id=\"2\" type=\"1\"/>\n",
    "  <VERTEX id=\"3\" type=\"0\"/>\n",
    "  <VERTEX id=\"4\" type=\"1\"/>\n",
    "  <EDGE type=\"0\" source=\"1\" target=\"2\"/>\n",
    "  <EDGE type=\"0\" source=\"2\" target=\"3\"/>\n",
    "  <EDGE type=\"0\" source=\"3\" target=\"4\"/>\n",
    "  <EDGE type=\"0\" source=\"4\" target=\"1\"/>\n",
    "  <EDGE type=\"1\" source=\"1\" target=\"3\"/>\n",
    "  <EDGE type=\"1\" source=\"2\" target=\"4\"/>\n",
    "</GRAPH> \n",
    "```\n",
    "In this lattice configuration there are two types of vertices, labeled as \"0\" for sites 1 and 3 and \"1\" for sites 2 and 4. For each qbit site there is a transverse magnetic field with strength Gamma. There are also two types of bonds, labeled as \"0\" for bonds between sites (1,2), (2,3), (3,4), and (4,1), and \"1\" for bonds between sites (1,3) and (2,4). For bond type \"0\", we will assign an interaction J1 for bond type \"0\" and J2 for bond type \"1\". All these is done in the model configuration file: `models.xml`\n",
    "```\n",
    "<HAMILTONIAN name=\"qbit operation\">\n",
    "  <PARAMETER name=\"J1\" default=\"1\"/>\n",
    "  <PARAMETER name=\"J2\" default=\"0.5\"/>\n",
    "  <BASIS ref=\"spin\"/>\n",
    "  <SITETERM site=\"i\">\n",
    "    -Gamma*Sx(i)\n",
    "  </SITETERM>\n",
    "  <BONDTERM source=\"1\" target=\"2\">\n",
    "    J1*Sz(1)*Sz(2)\n",
    "  </BONDTERM>\n",
    "  <BONDTERM source=\"2\" target=\"3\">\n",
    "    J1*Sz(2)*Sz(3)\n",
    "  </BONDTERM>\n",
    "  <BONDTERM source=\"3\" target=\"4\">\n",
    "    J1*Sz(3)*Sz(4)\n",
    "  </BONDTERM>\n",
    "  <BONDTERM source=\"4\" target=\"1\">\n",
    "    J1*Sz(4)*Sz(1)\n",
    "  </BONDTERM>\n",
    "  <BONDTERM source=\"1\" target=\"3\">\n",
    "    J2*Sz(1)*Sz(3)\n",
    "  </BONDTERM>\n",
    "  <BONDTERM source=\"2\" target=\"4\">\n",
    "    J2*Sz(2)*Sz(4)\n",
    "  </BONDTERM>\n",
    "</HAMILTONIAN>\n",
    "```\n",
    "With the above setups, the Hamiltonian for the 4-site qbits is given by\n",
    "$$\n",
    "H=J_{1} \\sum_{type 0} S^i_z S^j_z + J_{2} \\sum_{type 1} S^i_z S^j_z - \\Gamma \\sum_i S^i_x.\n",
    "$$\n",
    "\n",
    "### Simulation\n",
    "\n",
    "We first import some modules:"
   ]
  },
  {
   "cell_type": "code",
   "execution_count": 1,
   "id": "937b3b50-a1fa-45b8-a96a-792edfff2b0e",
   "metadata": {},
   "outputs": [],
   "source": [
    "import pyalps\n",
    "import numpy as np\n",
    "import matplotlib.pyplot as plt"
   ]
  },
  {
   "cell_type": "markdown",
   "id": "ba4bb502-d0c6-480f-924a-0851607972fc",
   "metadata": {},
   "source": [
    "We then set up parameters for the system and loop over the second coupling constants J2. "
   ]
  },
  {
   "cell_type": "code",
   "execution_count": 2,
   "id": "28a07bef-88c1-4a35-a03b-5ad0bfb7e191",
   "metadata": {},
   "outputs": [],
   "source": [
    "parms = []\n",
    "# Loop over second coupling constant\n",
    "for J2 in [0.0, 0.5, 1.0, 1.5]:\n",
    "    parms.append({\n",
    "        'GRAPH'      : \"4-site mixed\",\n",
    "        'MODEL'      : \"qbit operation\",\n",
    "        'local_S'    : 0.5,\n",
    "        'Gamma'      : 0.5,\n",
    "        'J2'         : J2,\n",
    "        'NUMBER_EIGENVALUES' : 5\n",
    "    })"
   ]
  },
  {
   "cell_type": "markdown",
   "id": "7b1d43aa-716e-4d1f-92d2-f1d639be28ae",
   "metadata": {},
   "source": [
    "Now we set up the input files and run the simulations."
   ]
  },
  {
   "cell_type": "code",
   "execution_count": 3,
   "id": "839e9e0e-b45e-45ba-9a66-16964a4086a0",
   "metadata": {},
   "outputs": [
    {
     "name": "stdout",
     "output_type": "stream",
     "text": [
      "sparsediag qbitenergy.in.xml\n",
      "ALPS sparse diagonalization application version 1.1\n",
      "  available from http://alps.comp-phys.org/\n",
      "  copyright (c) 2003-2007 by Matthias Troyer <troyer@comp-phys.org>\n",
      " for details see the publication:\n",
      "  A.F. Albuquerque et al., J. of Magn. and Magn. Materials 310, 1187 (2007).\n",
      "\n",
      "using the ALPS parallelizing scheduler\n",
      "  copyright (c) 1994-2006 by Matthias Troyer <troyer@comp-phys.org>.\n",
      "  see Lecture Notes in Computer Science, Vol. 1505, p. 191 (1998).\n",
      "\n",
      "based on the ALPS libraries version 2.3.0\n",
      "  available from http://alps.comp-phys.org/\n",
      "  copyright (c) 1994-2016 by the ALPS collaboration.\n",
      "  Consult the web page for license details.\n",
      "  For details see the publication: \n",
      "  B. Bauer et al., J. Stat. Mech. (2011) P05001.\n",
      "\n",
      "parsing task files ... \n",
      "Starting task 1.\n"
     ]
    },
    {
     "name": "stderr",
     "output_type": "stream",
     "text": [
      "Starting Lanczos \n",
      "Finished Lanczos\n"
     ]
    },
    {
     "name": "stdout",
     "output_type": "stream",
     "text": [
      "Checking if it is finished: not yet, next check in 60 seconds ( 0% done).\n",
      "Halted Simulation 1\n",
      "This task took 1 seconds.\n",
      "Checkpointing Simulation 1\n",
      "Checkpointing Simulation 2\n",
      "Checkpointing Simulation 3\n",
      "Checkpointing Simulation 4\n",
      "Starting task 2.\n"
     ]
    },
    {
     "name": "stderr",
     "output_type": "stream",
     "text": [
      "0 sectors\n",
      "Starting Lanczos \n",
      "Finished Lanczos\n"
     ]
    },
    {
     "name": "stdout",
     "output_type": "stream",
     "text": [
      "Checking if it is finished: not yet, next check in 60 seconds ( 0% done).\n",
      "Halted Simulation 2\n",
      "This task took 1 seconds.\n",
      "Checkpointing Simulation 1\n",
      "Checkpointing Simulation 2\n",
      "Checkpointing Simulation 3\n",
      "Checkpointing Simulation 4\n",
      "Starting task 3.\n"
     ]
    },
    {
     "name": "stderr",
     "output_type": "stream",
     "text": [
      "0 sectors\n",
      "Starting Lanczos \n",
      "Finished Lanczos\n"
     ]
    },
    {
     "name": "stdout",
     "output_type": "stream",
     "text": [
      "Checking if it is finished: not yet, next check in 60 seconds ( 0% done).\n",
      "Halted Simulation 3\n",
      "This task took 1 seconds.\n",
      "Checkpointing Simulation 1\n",
      "Checkpointing Simulation 2\n",
      "Checkpointing Simulation 3\n",
      "Checkpointing Simulation 4\n",
      "Starting task 4.\n"
     ]
    },
    {
     "name": "stderr",
     "output_type": "stream",
     "text": [
      "0 sectors\n",
      "Starting Lanczos \n",
      "Finished Lanczos\n"
     ]
    },
    {
     "name": "stdout",
     "output_type": "stream",
     "text": [
      "Checking if it is finished: not yet, next check in 60 seconds ( 0% done).\n",
      "Halted Simulation 4\n",
      "This task took 1 seconds.\n",
      "Checkpointing Simulation 1\n",
      "Checkpointing Simulation 2\n",
      "Checkpointing Simulation 3\n",
      "Checkpointing Simulation 4\n",
      "Finished with everything.\n"
     ]
    }
   ],
   "source": [
    "prefix = 'qbitenergy'\n",
    "input_file = pyalps.writeInputFiles(prefix,parms)\n",
    "res = pyalps.runApplication('sparsediag', input_file)\n",
    "data = pyalps.loadEigenstateMeasurements(pyalps.getResultFiles(prefix=prefix))"
   ]
  },
  {
   "cell_type": "markdown",
   "id": "977deda9-7980-4702-8aaf-cddccfed77ad",
   "metadata": {},
   "source": [
    "We then iterate through parameter J2 and plot 5 lowest energy levels for each J2."
   ]
  },
  {
   "cell_type": "code",
   "execution_count": 5,
   "id": "c72a27ec-de57-497b-8b9b-6bb6b5c3498c",
   "metadata": {},
   "outputs": [],
   "source": [
    "for Lsets in data:\n",
    "    J2 = pyalps.flatten(Lsets)[0].props['J2']\n",
    "    # Make a list of energy values for each J2\n",
    "    x = []\n",
    "    allE = []\n",
    "    for q in pyalps.flatten(Lsets):\n",
    "        x += list(q.x)\n",
    "        allE += list(q.y)\n",
    "    allE = np.sort(allE)\n",
    "\n",
    "    # Set the scatter plot label\n",
    "    lbl=\"J2=\" + str(J2)\n",
    "    plt.scatter(x,allE, label=lbl)\n",
    "\n",
    "    plt.legend()\n",
    "    \n",
    "plt.xlabel(\"level\")\n",
    "plt.ylabel(\"E\")\n",
    "plt.title(\"4-site Mixed Graph\")\n",
    "plt.show()\n"
   ]
  },
  {
   "cell_type": "markdown",
   "id": "56f29c23-f60f-49d4-b2cb-46c3c9d4f2dd",
   "metadata": {},
   "source": []
  }
 ],
 "metadata": {
  "kernelspec": {
   "display_name": "Python 3 (ipykernel)",
   "language": "python",
   "name": "python3"
  },
  "language_info": {
   "codemirror_mode": {
    "name": "ipython",
    "version": 3
   },
   "file_extension": ".py",
   "mimetype": "text/x-python",
   "name": "python",
   "nbconvert_exporter": "python",
   "pygments_lexer": "ipython3",
   "version": "3.12.7"
  }
 },
 "nbformat": 4,
 "nbformat_minor": 5
}
