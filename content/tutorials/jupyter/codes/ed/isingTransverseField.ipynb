{
 "cells": [
  {
   "cell_type": "markdown",
   "id": "af7ccab0-a6e1-4fd5-9ea0-77c42c5c356f",
   "metadata": {},
   "source": [
    "## Criticality of Ising Chain in a Transverse Field\n",
    "\n",
    "### Introduction\n",
    "\n",
    "In this tutorial, we will look at critical spin chains and make a connection to their description in terms of conformal field theory.\n",
    "\n",
    "The model we will consider is the critical Ising chain, given by the Hamiltonian\n",
    "\n",
    "$$\n",
    "H=J_{z} \\sum_{\\langle i,j \\rangle} S^i_z S^j_z + \\Gamma \\sum_i S^i_x\n",
    "$$\n",
    "\n",
    "Here, the first sum runs over pairs of nearest neighbours. $\\Gamma$ is referred to as transverse field; the system becomes critical for $\\Gamma/J=\\frac{1}{2}$. For $\\Gamma=0$, the ground state is antiferromagnetic for $J\\gt 0$ and ferromagnetic for $J \\lt 0$. The system is exactly solvable ([P. Pfeuty, Annals of Physics: 57, 79-90 (1970)](https://www.sciencedirect.com/science/article/abs/pii/0003491670902708?via%3Dihub)).\n",
    "\n",
    "In the above equation, $\\Delta$ refers to the scaling dimension of that field. The scaling fields occur in groups: the lowest one, referred to as primary field, comes with an infinite number of descendants with scaling dimension $\\Delta + m$, $m \\in \\lbrace 1, 2, 3, ... \\rbrace$.\n",
    "\n",
    "In the exact solution of the Ising model (Eq. (3.7) in [the paper P. Pfeuty](https://www.sciencedirect.com/science/article/abs/pii/0003491670902708?via%3Dihub)), the long-range correlations are found to decay as:\n",
    "$$\n",
    "\\langle S^i_z S^{i+n}\\_z \\rangle \\sim n^{-2\\times 1/8}\n",
    "$$\n",
    "$$\n",
    "\\langle S^i_y S^{i+n}\\_y \\rangle \\sim n^{-2\\times(1+1/8)}\n",
    "$$\n",
    "$$\n",
    "\\langle S^i_x S^{i+n}\\_x \\rangle \\sim n^{-2\\times 1}\n",
    "$$\n",
    "Additionally, we expect the scaling dimension of the identity operator to be 0.\n",
    "\n",
    "We therefore expect scaling dimensions of 0, 1/8, 1, 1+1/8 to appear in the CFT of the Ising model. To see this, we will rescale all energies of the spectrum according to $E \\rightarrow \\frac{E-E_0}{(E_1-E_0)8}$. This will force the two lowest states to occur where we expect the scaling dimensions; we can then check whether the rest of the spectrum is consistent with this.\n"
   ]
  },
  {
   "cell_type": "markdown",
   "id": "81e47d48-aea7-43aa-a2aa-647bb9eaa66e",
   "metadata": {},
   "source": [
    "### Simulation\n",
    "\n",
    "We will first import some modules:"
   ]
  },
  {
   "cell_type": "code",
   "execution_count": 15,
   "id": "16081e14-92b9-4be8-876e-9a24d9268535",
   "metadata": {},
   "outputs": [],
   "source": [
    "import pyalps\n",
    "import pyalps.plot\n",
    "import numpy as np\n",
    "import matplotlib.pyplot as plt\n",
    "import copy\n",
    "import math"
   ]
  },
  {
   "cell_type": "markdown",
   "id": "abbacc32-5c3b-45f2-9240-23e524ff9568",
   "metadata": {},
   "source": [
    "Then, let us set up the parameters for two system sizes. Be careful to use the transverse field $\\Gamma$, not the longitudinal field $h$."
   ]
  },
  {
   "cell_type": "code",
   "execution_count": 16,
   "id": "8bbb5506-91b3-4fbb-a94f-fbe2cd362b54",
   "metadata": {},
   "outputs": [],
   "source": [
    "# Some general parameters\n",
    "parms_ = {\n",
    "    'LATTICE'    : \"chain lattice\",\n",
    "    'MODEL'      : \"spin\",\n",
    "    'local_S'    : 0.5,\n",
    "    'Jxy'        : 0,\n",
    "    'Jz'         : -1,\n",
    "    'Gamma'      : 0.5,\n",
    "    'NUMBER_EIGENVALUES' : 5\n",
    "}\n",
    "\n",
    "parms = []\n",
    "# Change system sizes here, if desired\n",
    "for L in [10,12]:\n",
    "    parms.append({\n",
    "        'LATTICE'    : \"chain lattice\",\n",
    "        'MODEL'      : \"spin\",\n",
    "        'local_S'    : 0.5,\n",
    "        'Jxy'        : 0,\n",
    "        'Jz'         : -1,\n",
    "        'Gamma'      : 0.5,\n",
    "        'NUMBER_EIGENVALUES' : 5,\n",
    "        'L'          : L\n",
    "    })\n"
   ]
  },
  {
   "cell_type": "markdown",
   "id": "048dab44-d7fc-4881-a241-58eac72f06b9",
   "metadata": {},
   "source": [
    "As you can see, we will simulate two system sizes. Now let's set up the input files and run the simulation:"
   ]
  },
  {
   "cell_type": "code",
   "execution_count": 17,
   "id": "9a7ce343-ec23-468e-bc4a-5765d5ca1195",
   "metadata": {},
   "outputs": [
    {
     "name": "stdout",
     "output_type": "stream",
     "text": [
      "sparsediag ising.in.xml\n",
      "ALPS sparse diagonalization application version 1.1\n",
      "  available from http://alps.comp-phys.org/\n",
      "  copyright (c) 2003-2007 by Matthias Troyer <troyer@comp-phys.org>\n",
      " for details see the publication:\n",
      "  A.F. Albuquerque et al., J. of Magn. and Magn. Materials 310, 1187 (2007).\n",
      "\n",
      "using the ALPS parallelizing scheduler\n",
      "  copyright (c) 1994-2006 by Matthias Troyer <troyer@comp-phys.org>.\n",
      "  see Lecture Notes in Computer Science, Vol. 1505, p. 191 (1998).\n",
      "\n",
      "based on the ALPS libraries version 2.3.0\n",
      "  available from http://alps.comp-phys.org/\n",
      "  copyright (c) 1994-2016 by the ALPS collaboration.\n",
      "  Consult the web page for license details.\n",
      "  For details see the publication: \n",
      "  B. Bauer et al., J. Stat. Mech. (2011) P05001.\n",
      "\n",
      "parsing task files ... \n",
      "Starting task 1.\n"
     ]
    },
    {
     "name": "stderr",
     "output_type": "stream",
     "text": [
      "Starting Lanczos \n",
      "Finished Lanczos\n",
      "Starting Lanczos \n",
      "Finished Lanczos\n",
      "Starting Lanczos \n",
      "Finished Lanczos\n",
      "Starting Lanczos \n",
      "Finished Lanczos\n",
      "Starting Lanczos \n",
      "Finished Lanczos\n",
      "Starting Lanczos \n",
      "Finished Lanczos\n",
      "Starting Lanczos \n",
      "Finished Lanczos\n",
      "Starting Lanczos \n",
      "Finished Lanczos\n",
      "Starting Lanczos \n",
      "Finished Lanczos\n",
      "Starting Lanczos \n",
      "Finished Lanczos\n",
      "0 sectors\n",
      "Starting Lanczos \n",
      "Finished Lanczos\n"
     ]
    },
    {
     "name": "stdout",
     "output_type": "stream",
     "text": [
      "Checking if it is finished: not yet, next check in 60 seconds ( 0% done).\n",
      "Halted Simulation 1\n",
      "This task took 1 seconds.\n",
      "Checkpointing Simulation 1\n",
      "Checkpointing Simulation 2\n",
      "Starting task 2.\n"
     ]
    },
    {
     "name": "stderr",
     "output_type": "stream",
     "text": [
      "Starting Lanczos \n",
      "Finished Lanczos\n",
      "Starting Lanczos \n",
      "Finished Lanczos\n",
      "Starting Lanczos \n",
      "Finished Lanczos\n",
      "Starting Lanczos \n",
      "Finished Lanczos\n",
      "Starting Lanczos \n",
      "Finished Lanczos\n",
      "Starting Lanczos \n",
      "Finished Lanczos\n",
      "Starting Lanczos \n",
      "Finished Lanczos\n",
      "Starting Lanczos \n",
      "Finished Lanczos\n",
      "Starting Lanczos \n",
      "Finished Lanczos\n",
      "Starting Lanczos \n",
      "Finished Lanczos\n"
     ]
    },
    {
     "name": "stdout",
     "output_type": "stream",
     "text": [
      "Checking if it is finished: not yet, next check in 60 seconds ( 0% done).\n",
      "Halted Simulation 2\n",
      "This task took 2 seconds.\n",
      "Checkpointing Simulation 1\n",
      "Checkpointing Simulation 2\n",
      "Finished with everything.\n"
     ]
    },
    {
     "name": "stderr",
     "output_type": "stream",
     "text": [
      "Starting Lanczos \n",
      "Finished Lanczos\n"
     ]
    }
   ],
   "source": [
    "prefix = 'ising'\n",
    "input_file = pyalps.writeInputFiles(prefix,parms)\n",
    "res = pyalps.runApplication('sparsediag', input_file)\n",
    "# res = pyalps.runApplication('sparsediag', input_file, MPI=2, mpirun='mpirun')\n",
    "data = pyalps.loadEigenstateMeasurements(pyalps.getResultFiles(prefix=prefix))"
   ]
  },
  {
   "cell_type": "markdown",
   "id": "8ada825b-4de4-4352-bb5d-536c7b2a0313",
   "metadata": {},
   "source": [
    "To perform CFT assignments, we need to calculate the ground state and the first excited state for each L.\n",
    "The output of the above load operation will be a hierarchical list sorted by L, so we can just iterate through it"
   ]
  },
  {
   "cell_type": "code",
   "execution_count": 18,
   "id": "9040883e-5f56-420c-9771-1bb47c585c48",
   "metadata": {},
   "outputs": [],
   "source": [
    "E0 = {}\n",
    "E1 = {}\n",
    "for Lsets in data:\n",
    "    L = pyalps.flatten(Lsets)[0].props['L']\n",
    "    # Make a big list of all energy values\n",
    "    allE = []\n",
    "    for q in pyalps.flatten(Lsets):\n",
    "        allE += list(q.y)\n",
    "    allE = np.sort(allE)\n",
    "    E0[L] = allE[0]\n",
    "    E1[L] = allE[1]"
   ]
  },
  {
   "cell_type": "markdown",
   "id": "29e3758d-806b-4f50-86e5-fc744ab9f1ac",
   "metadata": {},
   "source": [
    "Subtract E0, divide by gap, multiply by 1/8, which we know to be the smallest non-vanishing scaling dimension of the Ising CFT"
   ]
  },
  {
   "cell_type": "code",
   "execution_count": 19,
   "id": "fd499841-8577-47c0-b559-477a1b68c14a",
   "metadata": {},
   "outputs": [],
   "source": [
    "for q in pyalps.flatten(data):\n",
    "    L = q.props['L']\n",
    "    q.y = (q.y-E0[L])/(E1[L]-E0[L]) * (1./8.)\n",
    "\n",
    "spectrum = pyalps.collectXY(data, 'TOTAL_MOMENTUM', 'Energy', foreach=['L'])"
   ]
  },
  {
   "cell_type": "markdown",
   "id": "e2edae2a-b494-4aa4-8598-0e19a01e5b1b",
   "metadata": {},
   "source": [
    "Plot the first few exactly known scaling dimensions"
   ]
  },
  {
   "cell_type": "code",
   "execution_count": 20,
   "id": "b407cc7e-cb01-4d35-8493-74dc62193358",
   "metadata": {},
   "outputs": [],
   "source": [
    "for SD in [0.125, 1, 1+0.125, 2]:\n",
    "    d = pyalps.DataSet()\n",
    "    d.x = np.array([0,4])\n",
    "    d.y = SD+0*d.x\n",
    "    # d.props['label'] = str(SD)\n",
    "    spectrum += [d]\n",
    "\n",
    "pyalps.plot.plot(spectrum)\n",
    "\n",
    "plt.legend(prop={'size':8})\n",
    "plt.xlabel(\"$k$\")\n",
    "plt.ylabel(\"$E_0$\")\n",
    "\n",
    "plt.xlim(-0.02, math.pi+0.02)\n",
    "\n",
    "plt.show()\n"
   ]
  },
  {
   "cell_type": "code",
   "execution_count": null,
   "id": "b35d9961-24e0-43a7-a5d4-e9f55300f008",
   "metadata": {},
   "outputs": [],
   "source": []
  }
 ],
 "metadata": {
  "kernelspec": {
   "display_name": "Python 3 (ipykernel)",
   "language": "python",
   "name": "python3"
  },
  "language_info": {
   "codemirror_mode": {
    "name": "ipython",
    "version": 3
   },
   "file_extension": ".py",
   "mimetype": "text/x-python",
   "name": "python",
   "nbconvert_exporter": "python",
   "pygments_lexer": "ipython3",
   "version": "3.12.7"
  }
 },
 "nbformat": 4,
 "nbformat_minor": 5
}
