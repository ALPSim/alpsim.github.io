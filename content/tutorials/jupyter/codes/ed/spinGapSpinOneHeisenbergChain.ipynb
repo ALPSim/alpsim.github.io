{
 "cells": [
  {
   "cell_type": "markdown",
   "id": "dcafcb1b-5ea4-4103-afe0-65b3f3286172",
   "metadata": {},
   "source": [
    "## Spin Gaps of a Spin-1 Heisenberg Chain\n",
    "\n",
    "In this tutorial we will learn how to use the sparse diagonalization program (Lanczos algorithm) to calculate the energy gaps of a 1D spin-1 Heisenberg chain for various lattice sizes ($L=4, 6, 8$, and 10). The obtained finite-lattice gaps are then used to extrapolate the energy gap in the thermodynamic limit ($L=\\infty$).\n",
    "\n",
    "The Hamiltonian for the spin-1 Heisenberg chain is given by \n",
    "$$H = J\\sum_{\\langle i,j \\rangle} \\mathbf{S}^i \\cdot \\mathbf{S}^j$$,\n",
    "where $J>0$ for antiferromagnetic interactions between two nearest-neighbour spins $\\mathbf{S}^i$ and $\\mathbf{S}^j$, and the spin-spin interaction consists of three components, i.e., \n",
    "$$\\mathbf{S}^i \\cdot \\mathbf{S}^j=S^i_xS^j_x+S^i_yS^j_y+S^i_zS^j_z$$.\n",
    "\n",
    "The basis states are usually chosen to be the eigen states of $S_z$ operator. For a spin-1 system, there are three basis states for each lattice site, $|-1\\rangle$, $|0\\rangle$, and $|+1\\rangle$. The application of $S_x$ and $S_y$ operators on these basis states can be expressed in terms of raising $S^{\\dagger}$ and lowering $S^{-}$ operators:\n",
    "$$S_x=\\frac{1}{2}(S^{\\dagger}+S^{-})$$,\n",
    "$$S_y=\\frac{1}{2i}(S^{\\dagger}-S^{-})$$, \n",
    "who act on the basis states in the following way:\n",
    "$$S^{\\dagger}|s\\rangle = \\sqrt{S(S+1)-s(s+1)}|s+1\\rangle$$,\n",
    "$$S^{-}|s\\rangle = \\sqrt{S(S+1)-s(s-1)}|s-1\\rangle$$,\n",
    "where $S=1$ and $s=-S, -S+1, \\cdots, S$.\n",
    "\n",
    "With the above basis states for each lattice site, the Hamiltonian can be written as a Hermitian matrix. The size of the matrix can be reduced when the total magnetization is fixed, i.e., setting Sz_total = 0 (singlet sector) or Sz_total = 1 (triplet sector) in the simulations. \n"
   ]
  },
  {
   "cell_type": "markdown",
   "id": "ee303cec-28d2-4fda-a93c-044a54270059",
   "metadata": {},
   "source": [
    "We first import the required modules."
   ]
  },
  {
   "cell_type": "code",
   "execution_count": 19,
   "id": "01ca07d4-3ffb-45c9-9010-5d774b736708",
   "metadata": {},
   "outputs": [],
   "source": [
    "import pyalps\n",
    "import numpy as np\n",
    "import matplotlib.pyplot as plt\n",
    "import pyalps.plot\n",
    "import pyalps.fit_wrapper as fw"
   ]
  },
  {
   "cell_type": "markdown",
   "id": "c20a934b-acc9-4bf9-9f5e-610ffd1b1bc5",
   "metadata": {},
   "source": [
    "Then we prepare the input files as a list of Python dictionaries."
   ]
  },
  {
   "cell_type": "code",
   "execution_count": 2,
   "id": "3fa9e62d-03bb-469c-9031-892c542b639e",
   "metadata": {},
   "outputs": [],
   "source": [
    "parms = []\n",
    "for l in [4, 6, 8, 10, 12, 14]:\n",
    "  for sz in [0, 1]:\n",
    "      parms.append(\n",
    "        { \n",
    "          'LATTICE'                   : \"chain lattice\", \n",
    "          'MODEL'                     : \"spin\",\n",
    "          'local_S'                   : 1,\n",
    "          'J'                         : 1,\n",
    "          'L'                         : l,\n",
    "          'CONSERVED_QUANTUMNUMBERS'  : 'Sz',\n",
    "          'Sz_total'                  : sz\n",
    "        }\n",
    "      )\n"
   ]
  },
  {
   "cell_type": "markdown",
   "id": "a8014365-ea0b-41c1-939e-4736105ebb36",
   "metadata": {},
   "source": [
    "We write the input file and run the simulation."
   ]
  },
  {
   "cell_type": "code",
   "execution_count": 3,
   "id": "72a9c317-a04f-4bbc-bcdc-01ed1dffac2e",
   "metadata": {},
   "outputs": [
    {
     "name": "stdout",
     "output_type": "stream",
     "text": [
      "sparsediag parm2a.in.xml\n",
      "ALPS sparse diagonalization application version 1.1\n",
      "  available from http://alps.comp-phys.org/\n",
      "  copyright (c) 2003-2007 by Matthias Troyer <troyer@comp-phys.org>\n",
      " for details see the publication:\n",
      "  A.F. Albuquerque et al., J. of Magn. and Magn. Materials 310, 1187 (2007).\n",
      "\n",
      "using the ALPS parallelizing scheduler\n",
      "  copyright (c) 1994-2006 by Matthias Troyer <troyer@comp-phys.org>.\n",
      "  see Lecture Notes in Computer Science, Vol. 1505, p. 191 (1998).\n",
      "\n",
      "based on the ALPS libraries version 2.3.0\n",
      "  available from http://alps.comp-phys.org/\n",
      "  copyright (c) 1994-2016 by the ALPS collaboration.\n",
      "  Consult the web page for license details.\n",
      "  For details see the publication: \n",
      "  B. Bauer et al., J. Stat. Mech. (2011) P05001.\n",
      "\n",
      "parsing task files ... \n",
      "Starting task 1.\n"
     ]
    },
    {
     "name": "stderr",
     "output_type": "stream",
     "text": [
      "Starting Lanczos \n",
      "Finished Lanczos\n",
      "Starting Lanczos \n",
      "Finished Lanczos\n",
      "Starting Lanczos \n",
      "Finished Lanczos\n",
      "Starting Lanczos \n",
      "Finished Lanczos\n"
     ]
    },
    {
     "name": "stdout",
     "output_type": "stream",
     "text": [
      "Checking if it is finished: not yet, next check in 60 seconds ( 0% done).\n",
      "Halted Simulation 1\n",
      "This task took 1 seconds.\n",
      "Checkpointing Simulation 1\n",
      "Checkpointing Simulation 2\n",
      "Checkpointing Simulation 3\n",
      "Checkpointing Simulation 4\n",
      "Checkpointing Simulation 5\n",
      "Checkpointing Simulation 6\n",
      "Checkpointing Simulation 7\n",
      "Checkpointing Simulation 8\n",
      "Checkpointing Simulation 9\n",
      "Checkpointing Simulation 10\n",
      "Checkpointing Simulation 11\n",
      "Checkpointing Simulation 12\n",
      "Starting task 2.\n"
     ]
    },
    {
     "name": "stderr",
     "output_type": "stream",
     "text": [
      "0 sectors\n",
      "Starting Lanczos \n",
      "Finished Lanczos\n",
      "Starting Lanczos \n",
      "Finished Lanczos\n",
      "Starting Lanczos \n",
      "Finished Lanczos\n",
      "Starting Lanczos \n",
      "Finished Lanczos\n"
     ]
    },
    {
     "name": "stdout",
     "output_type": "stream",
     "text": [
      "Checking if it is finished: not yet, next check in 60 seconds ( 0% done).\n",
      "Halted Simulation 2\n",
      "This task took 1 seconds.\n",
      "Checkpointing Simulation 1\n",
      "Checkpointing Simulation 2\n",
      "Checkpointing Simulation 3\n",
      "Checkpointing Simulation 4\n",
      "Checkpointing Simulation 5\n",
      "Checkpointing Simulation 6\n",
      "Checkpointing Simulation 7\n",
      "Checkpointing Simulation 8\n",
      "Checkpointing Simulation 9\n",
      "Checkpointing Simulation 10\n",
      "Checkpointing Simulation 11\n",
      "Checkpointing Simulation 12\n",
      "Starting task 3.\n"
     ]
    },
    {
     "name": "stderr",
     "output_type": "stream",
     "text": [
      "0 sectors\n",
      "Starting Lanczos \n",
      "Finished Lanczos\n",
      "Starting Lanczos \n",
      "Finished Lanczos\n",
      "Starting Lanczos \n",
      "Finished Lanczos\n",
      "Starting Lanczos \n",
      "Finished Lanczos\n",
      "Starting Lanczos \n",
      "Finished Lanczos\n",
      "Starting Lanczos \n",
      "Finished Lanczos\n"
     ]
    },
    {
     "name": "stdout",
     "output_type": "stream",
     "text": [
      "Checking if it is finished: not yet, next check in 60 seconds ( 0% done).\n",
      "Halted Simulation 3\n",
      "This task took 1 seconds.\n",
      "Checkpointing Simulation 1\n",
      "Checkpointing Simulation 2\n",
      "Checkpointing Simulation 3\n",
      "Checkpointing Simulation 4\n",
      "Checkpointing Simulation 5\n",
      "Checkpointing Simulation 6\n",
      "Checkpointing Simulation 7\n",
      "Checkpointing Simulation 8\n",
      "Checkpointing Simulation 9\n",
      "Checkpointing Simulation 10\n",
      "Checkpointing Simulation 11\n",
      "Checkpointing Simulation 12\n",
      "Starting task 4.\n"
     ]
    },
    {
     "name": "stderr",
     "output_type": "stream",
     "text": [
      "0 sectors\n",
      "Starting Lanczos \n",
      "Finished Lanczos\n",
      "Starting Lanczos \n",
      "Finished Lanczos\n",
      "Starting Lanczos \n",
      "Finished Lanczos\n",
      "Starting Lanczos \n",
      "Finished Lanczos\n",
      "Starting Lanczos \n",
      "Finished Lanczos\n",
      "Starting Lanczos \n",
      "Finished Lanczos\n"
     ]
    },
    {
     "name": "stdout",
     "output_type": "stream",
     "text": [
      "Checking if it is finished: not yet, next check in 60 seconds ( 0% done).\n",
      "Halted Simulation 4\n",
      "This task took 1 seconds.\n",
      "Checkpointing Simulation 1\n",
      "Checkpointing Simulation 2\n",
      "Checkpointing Simulation 3\n",
      "Checkpointing Simulation 4\n",
      "Checkpointing Simulation 5\n",
      "Checkpointing Simulation 6\n",
      "Checkpointing Simulation 7\n",
      "Checkpointing Simulation 8\n",
      "Checkpointing Simulation 9\n",
      "Checkpointing Simulation 10\n",
      "Checkpointing Simulation 11\n",
      "Checkpointing Simulation 12\n",
      "Starting task 5.\n"
     ]
    },
    {
     "name": "stderr",
     "output_type": "stream",
     "text": [
      "0 sectors\n",
      "Starting Lanczos \n",
      "Finished Lanczos\n",
      "Starting Lanczos \n",
      "Finished Lanczos\n",
      "Starting Lanczos \n",
      "Finished Lanczos\n",
      "Starting Lanczos \n",
      "Finished Lanczos\n",
      "Starting Lanczos \n",
      "Finished Lanczos\n",
      "Starting Lanczos \n",
      "Finished Lanczos\n",
      "Starting Lanczos \n",
      "Finished Lanczos\n",
      "Starting Lanczos \n",
      "Finished Lanczos\n",
      "0 sectors\n",
      "Starting Lanczos \n",
      "Finished Lanczos\n"
     ]
    },
    {
     "name": "stdout",
     "output_type": "stream",
     "text": [
      "Checking if it is finished: not yet, next check in 60 seconds ( 0% done).\n",
      "Halted Simulation 5\n",
      "This task took 1 seconds.\n",
      "Checkpointing Simulation 1\n",
      "Checkpointing Simulation 2\n",
      "Checkpointing Simulation 3\n",
      "Checkpointing Simulation 4\n",
      "Checkpointing Simulation 5\n",
      "Checkpointing Simulation 6\n",
      "Checkpointing Simulation 7\n",
      "Checkpointing Simulation 8\n",
      "Checkpointing Simulation 9\n",
      "Checkpointing Simulation 10\n",
      "Checkpointing Simulation 11\n",
      "Checkpointing Simulation 12\n",
      "Starting task 6.\n"
     ]
    },
    {
     "name": "stderr",
     "output_type": "stream",
     "text": [
      "Starting Lanczos \n",
      "Finished Lanczos\n",
      "Starting Lanczos \n",
      "Finished Lanczos\n",
      "Starting Lanczos \n",
      "Finished Lanczos\n",
      "Starting Lanczos \n",
      "Finished Lanczos\n",
      "Starting Lanczos \n",
      "Finished Lanczos\n",
      "Starting Lanczos \n",
      "Finished Lanczos\n",
      "Starting Lanczos \n",
      "Finished Lanczos\n",
      "0 sectors\n"
     ]
    },
    {
     "name": "stdout",
     "output_type": "stream",
     "text": [
      "Checking if it is finished: not yet, next check in 60 seconds ( 0% done).\n",
      "Halted Simulation 6\n",
      "This task took 1 seconds.\n",
      "Checkpointing Simulation 1\n",
      "Checkpointing Simulation 2\n",
      "Checkpointing Simulation 3\n",
      "Checkpointing Simulation 4\n",
      "Checkpointing Simulation 5\n",
      "Checkpointing Simulation 6\n",
      "Checkpointing Simulation 7\n",
      "Checkpointing Simulation 8\n",
      "Checkpointing Simulation 9\n",
      "Checkpointing Simulation 10\n",
      "Checkpointing Simulation 11\n",
      "Checkpointing Simulation 12\n"
     ]
    },
    {
     "name": "stderr",
     "output_type": "stream",
     "text": [
      "Starting Lanczos \n",
      "Finished Lanczos\n"
     ]
    },
    {
     "name": "stdout",
     "output_type": "stream",
     "text": [
      "Starting task 7.\n"
     ]
    },
    {
     "name": "stderr",
     "output_type": "stream",
     "text": [
      "Starting Lanczos \n",
      "Finished Lanczos\n",
      "Starting Lanczos \n",
      "Finished Lanczos\n",
      "Starting Lanczos \n",
      "Finished Lanczos\n",
      "Starting Lanczos \n",
      "Finished Lanczos\n",
      "Starting Lanczos \n",
      "Finished Lanczos\n",
      "Starting Lanczos \n",
      "Finished Lanczos\n",
      "Starting Lanczos \n",
      "Finished Lanczos\n",
      "Starting Lanczos \n",
      "Finished Lanczos\n",
      "Starting Lanczos \n",
      "Finished Lanczos\n",
      "0 sectors\n"
     ]
    },
    {
     "name": "stdout",
     "output_type": "stream",
     "text": [
      "Checking if it is finished: not yet, next check in 60 seconds ( 0% done).\n",
      "Halted Simulation 7\n",
      "This task took 2 seconds.\n",
      "Checkpointing Simulation 1\n",
      "Checkpointing Simulation 2\n",
      "Checkpointing Simulation 3\n",
      "Checkpointing Simulation 4\n",
      "Checkpointing Simulation 5\n",
      "Checkpointing Simulation 6\n",
      "Checkpointing Simulation 7\n",
      "Checkpointing Simulation 8\n",
      "Checkpointing Simulation 9\n",
      "Checkpointing Simulation 10\n",
      "Checkpointing Simulation 11\n",
      "Checkpointing Simulation 12\n",
      "Starting task 8.\n"
     ]
    },
    {
     "name": "stderr",
     "output_type": "stream",
     "text": [
      "Starting Lanczos \n",
      "Finished Lanczos\n",
      "Starting Lanczos \n",
      "Finished Lanczos\n",
      "Starting Lanczos \n",
      "Finished Lanczos\n",
      "Starting Lanczos \n",
      "Finished Lanczos\n",
      "Starting Lanczos \n",
      "Finished Lanczos\n",
      "Starting Lanczos \n",
      "Finished Lanczos\n",
      "Starting Lanczos \n",
      "Finished Lanczos\n",
      "Starting Lanczos \n",
      "Finished Lanczos\n",
      "Starting Lanczos \n",
      "Finished Lanczos\n",
      "Starting Lanczos \n",
      "Finished Lanczos\n",
      "0 sectors\n"
     ]
    },
    {
     "name": "stdout",
     "output_type": "stream",
     "text": [
      "Checking if it is finished: not yet, next check in 60 seconds ( 0% done).\n",
      "Halted Simulation 8\n",
      "This task took 2 seconds.\n",
      "Checkpointing Simulation 1\n",
      "Checkpointing Simulation 2\n",
      "Checkpointing Simulation 3\n",
      "Checkpointing Simulation 4\n",
      "Checkpointing Simulation 5\n",
      "Checkpointing Simulation 6\n",
      "Checkpointing Simulation 7\n",
      "Checkpointing Simulation 8\n",
      "Checkpointing Simulation 9\n",
      "Checkpointing Simulation 10\n",
      "Checkpointing Simulation 11\n",
      "Checkpointing Simulation 12\n",
      "Starting task 9.\n"
     ]
    },
    {
     "name": "stderr",
     "output_type": "stream",
     "text": [
      "Starting Lanczos \n",
      "Finished Lanczos\n",
      "Starting Lanczos \n",
      "Finished Lanczos\n",
      "Starting Lanczos \n",
      "Finished Lanczos\n",
      "Starting Lanczos \n",
      "Finished Lanczos\n",
      "Starting Lanczos \n",
      "Finished Lanczos\n",
      "Starting Lanczos \n",
      "Finished Lanczos\n",
      "Starting Lanczos \n",
      "Finished Lanczos\n",
      "Starting Lanczos \n",
      "Finished Lanczos\n",
      "Starting Lanczos \n",
      "Finished Lanczos\n",
      "Starting Lanczos \n",
      "Finished Lanczos\n",
      "Starting Lanczos \n",
      "Finished Lanczos\n",
      "Starting Lanczos \n",
      "Finished Lanczos\n",
      "0 sectors\n"
     ]
    },
    {
     "name": "stdout",
     "output_type": "stream",
     "text": [
      "Checking if it is finished: not yet, next check in 60 seconds ( 0% done).\n",
      "Halted Simulation 9\n",
      "This task took 6 seconds.\n",
      "Checkpointing Simulation 1\n",
      "Checkpointing Simulation 2\n",
      "Checkpointing Simulation 3\n",
      "Checkpointing Simulation 4\n",
      "Checkpointing Simulation 5\n",
      "Checkpointing Simulation 6\n",
      "Checkpointing Simulation 7\n",
      "Checkpointing Simulation 8\n",
      "Checkpointing Simulation 9\n",
      "Checkpointing Simulation 10\n",
      "Checkpointing Simulation 11\n",
      "Checkpointing Simulation 12\n",
      "Starting task 10.\n"
     ]
    },
    {
     "name": "stderr",
     "output_type": "stream",
     "text": [
      "Starting Lanczos \n",
      "Finished Lanczos\n",
      "Starting Lanczos \n",
      "Finished Lanczos\n",
      "Starting Lanczos \n",
      "Finished Lanczos\n",
      "Starting Lanczos \n",
      "Finished Lanczos\n",
      "Starting Lanczos \n",
      "Finished Lanczos\n",
      "Starting Lanczos \n",
      "Finished Lanczos\n",
      "Starting Lanczos \n",
      "Finished Lanczos\n",
      "Starting Lanczos \n",
      "Finished Lanczos\n",
      "Starting Lanczos \n",
      "Finished Lanczos\n",
      "Starting Lanczos \n",
      "Finished Lanczos\n",
      "Starting Lanczos \n",
      "Finished Lanczos\n",
      "Starting Lanczos \n",
      "Finished Lanczos\n",
      "0 sectors\n"
     ]
    },
    {
     "name": "stdout",
     "output_type": "stream",
     "text": [
      "Checking if it is finished: not yet, next check in 60 seconds ( 0% done).\n",
      "Halted Simulation 10\n",
      "This task took 6 seconds.\n",
      "Checkpointing Simulation 1\n",
      "Checkpointing Simulation 2\n",
      "Checkpointing Simulation 3\n",
      "Checkpointing Simulation 4\n",
      "Checkpointing Simulation 5\n",
      "Checkpointing Simulation 6\n",
      "Checkpointing Simulation 7\n",
      "Checkpointing Simulation 8\n",
      "Checkpointing Simulation 9\n",
      "Checkpointing Simulation 10\n",
      "Checkpointing Simulation 11\n",
      "Checkpointing Simulation 12\n"
     ]
    },
    {
     "name": "stderr",
     "output_type": "stream",
     "text": [
      "Starting Lanczos \n"
     ]
    },
    {
     "name": "stdout",
     "output_type": "stream",
     "text": [
      "Starting task 11.\n"
     ]
    },
    {
     "name": "stderr",
     "output_type": "stream",
     "text": [
      "Finished Lanczos\n",
      "Starting Lanczos \n",
      "Finished Lanczos\n",
      "Starting Lanczos \n",
      "Finished Lanczos\n",
      "Starting Lanczos \n",
      "Finished Lanczos\n",
      "Starting Lanczos \n",
      "Finished Lanczos\n",
      "Starting Lanczos \n",
      "Finished Lanczos\n",
      "Starting Lanczos \n",
      "Finished Lanczos\n",
      "Starting Lanczos \n",
      "Finished Lanczos\n",
      "Starting Lanczos \n",
      "Finished Lanczos\n",
      "Starting Lanczos \n",
      "Finished Lanczos\n",
      "Starting Lanczos \n",
      "Finished Lanczos\n",
      "Starting Lanczos \n",
      "Finished Lanczos\n",
      "Starting Lanczos \n",
      "Finished Lanczos\n",
      "Starting Lanczos \n",
      "Finished Lanczos\n",
      "0 sectors\n"
     ]
    },
    {
     "name": "stdout",
     "output_type": "stream",
     "text": [
      "Checking if it is finished: not yet, next check in 60 seconds ( 0% done).\n",
      "Halted Simulation 11\n",
      "This task took 42 seconds.\n",
      "Checkpointing Simulation 1\n",
      "Checkpointing Simulation 2\n",
      "Checkpointing Simulation 3\n",
      "Checkpointing Simulation 4\n",
      "Checkpointing Simulation 5\n",
      "Checkpointing Simulation 6\n",
      "Checkpointing Simulation 7\n",
      "Checkpointing Simulation 8\n",
      "Checkpointing Simulation 9\n",
      "Checkpointing Simulation 10\n",
      "Checkpointing Simulation 11\n",
      "Checkpointing Simulation 12\n",
      "Starting task 12.\n"
     ]
    },
    {
     "name": "stderr",
     "output_type": "stream",
     "text": [
      "Starting Lanczos \n",
      "Finished Lanczos\n",
      "Starting Lanczos \n",
      "Finished Lanczos\n",
      "Starting Lanczos \n",
      "Finished Lanczos\n",
      "Starting Lanczos \n",
      "Finished Lanczos\n",
      "Starting Lanczos \n",
      "Finished Lanczos\n",
      "Starting Lanczos \n",
      "Finished Lanczos\n",
      "Starting Lanczos \n",
      "Finished Lanczos\n",
      "Starting Lanczos \n",
      "Finished Lanczos\n",
      "Starting Lanczos \n",
      "Finished Lanczos\n",
      "Starting Lanczos \n",
      "Finished Lanczos\n",
      "Starting Lanczos \n",
      "Finished Lanczos\n",
      "Starting Lanczos \n",
      "Finished Lanczos\n",
      "Starting Lanczos \n",
      "Finished Lanczos\n",
      "Starting Lanczos \n"
     ]
    },
    {
     "name": "stdout",
     "output_type": "stream",
     "text": [
      "Checking if it is finished: not yet, next check in 60 seconds ( 0% done).\n",
      "Halted Simulation 12\n",
      "This task took 39 seconds.\n",
      "Checkpointing Simulation 1\n",
      "Checkpointing Simulation 2\n",
      "Checkpointing Simulation 3\n",
      "Checkpointing Simulation 4\n",
      "Checkpointing Simulation 5\n",
      "Checkpointing Simulation 6\n",
      "Checkpointing Simulation 7\n",
      "Checkpointing Simulation 8\n",
      "Checkpointing Simulation 9\n",
      "Checkpointing Simulation 10\n",
      "Checkpointing Simulation 11\n",
      "Checkpointing Simulation 12\n",
      "Finished with everything.\n"
     ]
    },
    {
     "name": "stderr",
     "output_type": "stream",
     "text": [
      "Finished Lanczos\n"
     ]
    }
   ],
   "source": [
    "input_file = pyalps.writeInputFiles('parm2a',parms)\n",
    "res = pyalps.runApplication('sparsediag',input_file) #, MPI=4)"
   ]
  },
  {
   "cell_type": "markdown",
   "id": "472bf519-24bc-4899-b740-cff698b7cbec",
   "metadata": {},
   "source": [
    "We next load the spectra for each of the systems sizes and spin sectors:"
   ]
  },
  {
   "cell_type": "code",
   "execution_count": 15,
   "id": "dd7e134b-3d94-44a6-bb23-4920efdbd535",
   "metadata": {},
   "outputs": [],
   "source": [
    "data = pyalps.loadSpectra(pyalps.getResultFiles(prefix='parm2a'))"
   ]
  },
  {
   "cell_type": "markdown",
   "id": "2df85dc9-f4c6-41d8-a34e-f8dc03fd8f01",
   "metadata": {},
   "source": [
    "To extract the gaps we need to write a few lines of Python, to set up a list of lengths and a Python dictionaries of the minimum energy in each (L,Sz) sector:"
   ]
  },
  {
   "cell_type": "code",
   "execution_count": 16,
   "id": "43ec9a0d-6962-42fb-978d-ce34eaaed7b1",
   "metadata": {},
   "outputs": [],
   "source": [
    "lengths = []\n",
    "min_energies = {}\n",
    "\n",
    "for sim in data:\n",
    "  l = int(sim[0].props['L'])\n",
    "  if l not in lengths: lengths.append(l)\n",
    "  sz = int(sim[0].props['Sz_total'])\n",
    "  all_energies = []\n",
    "  for sec in sim:\n",
    "    all_energies += list(sec.y)\n",
    "  min_energies[(l,sz)]= np.min(all_energies)"
   ]
  },
  {
   "cell_type": "markdown",
   "id": "b8e7f8d4-e6a3-4d2b-8af2-4defe37fe30a",
   "metadata": {},
   "source": [
    "And finally we make a plot of the gap as a function of 1/L and then show the plot"
   ]
  },
  {
   "cell_type": "code",
   "execution_count": 17,
   "id": "08e713f0-8317-4d6f-8a60-5192b45c3231",
   "metadata": {
    "scrolled": true
   },
   "outputs": [
    {
     "data": {
      "text/plain": [
       "(0.0, 1.0)"
      ]
     },
     "execution_count": 17,
     "metadata": {},
     "output_type": "execute_result"
    }
   ],
   "source": [
    "gapplot = pyalps.DataSet()\n",
    "gapplot.x = 1./np.sort(lengths)\n",
    "gapplot.y = [min_energies[(l,1)] -min_energies[(l,0)] for l in np.sort(lengths)]  \n",
    "gapplot.props['xlabel']='$1/L$'\n",
    "gapplot.props['ylabel']='Triplet gap (J)'\n",
    "gapplot.props['label']='S=1'\n",
    "gapplot.props['line']='.'\n",
    "\n",
    "plt.figure()\n",
    "pyalps.plot.plot(gapplot)\n",
    "plt.legend()\n",
    "plt.xlim(0,0.25)\n",
    "plt.ylim(0,1.0)"
   ]
  },
  {
   "cell_type": "markdown",
   "id": "e34d7872-e1f9-4ad2-88f7-4a17622743cd",
   "metadata": {},
   "source": [
    "We then fit the data in the range L=8 to L=14 to obtain the gap in the thermodynamic limit ($L\\rightarrow \\infty$ or $1/L\\rightarrow 0$)."
   ]
  },
  {
   "cell_type": "code",
   "execution_count": 18,
   "id": "a9e392f6-548c-42f0-8ac0-317646b79c64",
   "metadata": {},
   "outputs": [],
   "source": [
    "pars = [fw.Parameter(0.411), fw.Parameter(1000), fw.Parameter(1)]\n",
    "f = lambda self, x, p: p[0]()+p[1]()*np.exp(-x/p[2]())\n",
    "fw.fit(None, f, pars, np.array(gapplot.y)[2:], np.sort(lengths)[2:])\n",
    "\n",
    "x = np.linspace(0.0001, 1./min(lengths), 100)\n",
    "plt.plot(x, f(None, 1/x, pars))\n",
    "\n",
    "plt.show()"
   ]
  },
  {
   "cell_type": "code",
   "execution_count": null,
   "id": "c94bf064-206f-4e94-9d52-df8c9196de3f",
   "metadata": {},
   "outputs": [],
   "source": []
  }
 ],
 "metadata": {
  "kernelspec": {
   "display_name": "Python 3 (ipykernel)",
   "language": "python",
   "name": "python3"
  },
  "language_info": {
   "codemirror_mode": {
    "name": "ipython",
    "version": 3
   },
   "file_extension": ".py",
   "mimetype": "text/x-python",
   "name": "python",
   "nbconvert_exporter": "python",
   "pygments_lexer": "ipython3",
   "version": "3.12.7"
  }
 },
 "nbformat": 4,
 "nbformat_minor": 5
}
